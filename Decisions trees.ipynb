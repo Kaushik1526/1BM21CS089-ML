{
  "nbformat": 4,
  "nbformat_minor": 0,
  "metadata": {
    "colab": {
      "provenance": [],
      "mount_file_id": "1ukzbNydwlWIAQeku3H8YWSJwm7zYduZ8",
      "authorship_tag": "ABX9TyN+2UpED7oLgVYNx3Orujgo",
      "include_colab_link": true
    },
    "kernelspec": {
      "name": "python3",
      "display_name": "Python 3"
    },
    "language_info": {
      "name": "python"
    }
  },
  "cells": [
    {
      "cell_type": "markdown",
      "metadata": {
        "id": "view-in-github",
        "colab_type": "text"
      },
      "source": [
        "<a href=\"https://colab.research.google.com/github/Kaushik1526/1BM21CS089-ML/blob/main/ML_3.ipynb\" target=\"_parent\"><img src=\"https://colab.research.google.com/assets/colab-badge.svg\" alt=\"Open In Colab\"/></a>"
      ]
    },
    {
      "cell_type": "code",
      "source": [
        "from google.colab import drive\n",
        "drive.mount('/content/drive')"
      ],
      "metadata": {
        "id": "FbErot3gkvLJ",
        "colab": {
          "base_uri": "https://localhost:8080/"
        },
        "outputId": "7a4eacad-ee9d-4275-8b26-4e1a176f8c3e"
      },
      "execution_count": null,
      "outputs": [
        {
          "output_type": "stream",
          "name": "stdout",
          "text": [
            "Drive already mounted at /content/drive; to attempt to forcibly remount, call drive.mount(\"/content/drive\", force_remount=True).\n"
          ]
        }
      ]
    },
    {
      "cell_type": "code",
      "source": [
        "import pandas as pd\n",
        "import numpy as np\n",
        "import math\n",
        "\n",
        "\n",
        "data = pd.read_csv('/content/drive/MyDrive/ Kaushik Potluri- Simple calculator/PlayTennis.csv')"
      ],
      "metadata": {
        "id": "QdVJ1jCVlgOn"
      },
      "execution_count": null,
      "outputs": []
    },
    {
      "cell_type": "code",
      "source": [
        "def find_entropy(data):\n",
        "    \"\"\"\n",
        "    Returns the entropy of the class or features\n",
        "    formula: - ∑ P(X)logP(X)\n",
        "    \"\"\"\n",
        "    entropy = 0\n",
        "    for i in range(data.nunique()):\n",
        "        x = data.value_counts()[i]/data.shape[0]\n",
        "        entropy += (- x * math.log(x,2))\n",
        "    return round(entropy,3)\n",
        "\n",
        "\n",
        "\n",
        "def information_gain(data, data_):\n",
        "    \"\"\"\n",
        "    Returns the information gain of the features\n",
        "    \"\"\"\n",
        "    info = 0\n",
        "    for i in range(data_.nunique()):\n",
        "        df = data[data_ == data_.unique()[i]]\n",
        "        w_avg = df.shape[0]/data.shape[0]\n",
        "        entropy = find_entropy(df.play)\n",
        "        x = w_avg * entropy\n",
        "        info += x\n",
        "    ig = find_entropy(data.play) - info\n",
        "    return round(ig, 3)\n",
        "\n",
        "\n",
        "\n",
        "def entropy_and_infogain(datax, feature):\n",
        "    \"\"\"\n",
        "    Grouping features with the same class and computing their\n",
        "    entropy and information gain for splitting\n",
        "    \"\"\"\n",
        "    for i in range(data[feature].nunique()):\n",
        "        df = datax[datax[feature]==data[feature].unique()[i]]\n",
        "        if df.shape[0] < 1:\n",
        "            continue\n",
        "\n",
        "        display(df[[feature, 'play']].style.applymap(highlight)\\\n",
        "                .set_properties(subset=[feature, 'play'], **{'width': '80px'})\\\n",
        "                .set_table_styles([{'selector': 'th', 'props': [('background-color', 'lightgray'),\n",
        "                                                                ('border', '1px solid gray'),\n",
        "                                                                ('font-weight', 'bold')]},\n",
        "                                   {'selector': 'td', 'props': [('border', '1px solid gray')]},\n",
        "                                   {'selector': 'tr:hover', 'props': [('background-color', 'white'),\n",
        "                                                                      ('border', '1.5px solid black')]}]))\n",
        "\n",
        "        print(f'Entropy of {feature} - {data[feature].unique()[i]} = {find_entropy(df.play)}')\n",
        "    print(f'Information Gain for {feature} = {information_gain(datax, datax[feature])}')"
      ],
      "metadata": {
        "id": "DaEwD5IYlsRG"
      },
      "execution_count": null,
      "outputs": []
    },
    {
      "cell_type": "code",
      "source": [
        "print(f'Entropy of the entire dataset: {find_entropy(data.play)}')"
      ],
      "metadata": {
        "colab": {
          "base_uri": "https://localhost:8080/"
        },
        "id": "5DKgIuuGl0Nv",
        "outputId": "a91986b0-6d66-4ee3-f1fd-877be6ed6432"
      },
      "execution_count": null,
      "outputs": [
        {
          "output_type": "stream",
          "name": "stdout",
          "text": [
            "Entropy of the entire dataset: 0.94\n"
          ]
        }
      ]
    },
    {
      "cell_type": "code",
      "source": [
        "def highlight(cell_value):\n",
        "    '''\n",
        "    Highlight yes / no values in the dataframe\n",
        "    '''\n",
        "    color_1 = 'background-color: pink;'\n",
        "    color_2 = 'background-color: lightgreen;'\n",
        "\n",
        "    if cell_value == 'no':\n",
        "        return color_1\n",
        "    elif cell_value == 'yes':\n",
        "        return color_2\n",
        "\n",
        "data.style.applymap(highlight)\\\n",
        "    .set_properties(subset=data.columns, **{'width': '100px'})\\\n",
        "    .set_table_styles([{'selector': 'th', 'props': [('background-color', 'lightgray'), ('border', '1px solid gray'),\n",
        "                                                    ('font-weight', 'bold')]},\n",
        "     {'selector': 'tr:hover', 'props': [('background-color', 'white'), ('border', '1.5px solid black')]}])"
      ],
      "metadata": {
        "colab": {
          "base_uri": "https://localhost:8080/",
          "height": 503
        },
        "id": "Qtze5vXTmWU_",
        "outputId": "416d9de7-3359-4c0a-d950-a4c1c7026ed2"
      },
      "execution_count": null,
      "outputs": [
        {
          "output_type": "execute_result",
          "data": {
            "text/plain": [
              "<pandas.io.formats.style.Styler at 0x794c9f3c17b0>"
            ],
            "text/html": [
              "<style type=\"text/css\">\n",
              "#T_0e013 th {\n",
              "  background-color: lightgray;\n",
              "  border: 1px solid gray;\n",
              "  font-weight: bold;\n",
              "}\n",
              "#T_0e013 tr:hover {\n",
              "  background-color: white;\n",
              "  border: 1.5px solid black;\n",
              "}\n",
              "#T_0e013_row0_col0, #T_0e013_row0_col1, #T_0e013_row0_col2, #T_0e013_row0_col3, #T_0e013_row1_col0, #T_0e013_row1_col1, #T_0e013_row1_col2, #T_0e013_row1_col3, #T_0e013_row2_col0, #T_0e013_row2_col1, #T_0e013_row2_col2, #T_0e013_row2_col3, #T_0e013_row3_col0, #T_0e013_row3_col1, #T_0e013_row3_col2, #T_0e013_row3_col3, #T_0e013_row4_col0, #T_0e013_row4_col1, #T_0e013_row4_col2, #T_0e013_row4_col3, #T_0e013_row5_col0, #T_0e013_row5_col1, #T_0e013_row5_col2, #T_0e013_row5_col3, #T_0e013_row6_col0, #T_0e013_row6_col1, #T_0e013_row6_col2, #T_0e013_row6_col3, #T_0e013_row7_col0, #T_0e013_row7_col1, #T_0e013_row7_col2, #T_0e013_row7_col3, #T_0e013_row8_col0, #T_0e013_row8_col1, #T_0e013_row8_col2, #T_0e013_row8_col3, #T_0e013_row9_col0, #T_0e013_row9_col1, #T_0e013_row9_col2, #T_0e013_row9_col3, #T_0e013_row10_col0, #T_0e013_row10_col1, #T_0e013_row10_col2, #T_0e013_row10_col3, #T_0e013_row11_col0, #T_0e013_row11_col1, #T_0e013_row11_col2, #T_0e013_row11_col3, #T_0e013_row12_col0, #T_0e013_row12_col1, #T_0e013_row12_col2, #T_0e013_row12_col3, #T_0e013_row13_col0, #T_0e013_row13_col1, #T_0e013_row13_col2, #T_0e013_row13_col3 {\n",
              "  width: 100px;\n",
              "}\n",
              "#T_0e013_row0_col4, #T_0e013_row1_col4, #T_0e013_row5_col4, #T_0e013_row7_col4, #T_0e013_row13_col4 {\n",
              "  background-color: pink;\n",
              "  width: 100px;\n",
              "}\n",
              "#T_0e013_row2_col4, #T_0e013_row3_col4, #T_0e013_row4_col4, #T_0e013_row6_col4, #T_0e013_row8_col4, #T_0e013_row9_col4, #T_0e013_row10_col4, #T_0e013_row11_col4, #T_0e013_row12_col4 {\n",
              "  background-color: lightgreen;\n",
              "  width: 100px;\n",
              "}\n",
              "</style>\n",
              "<table id=\"T_0e013\" class=\"dataframe\">\n",
              "  <thead>\n",
              "    <tr>\n",
              "      <th class=\"blank level0\" >&nbsp;</th>\n",
              "      <th id=\"T_0e013_level0_col0\" class=\"col_heading level0 col0\" >outlook</th>\n",
              "      <th id=\"T_0e013_level0_col1\" class=\"col_heading level0 col1\" >temp</th>\n",
              "      <th id=\"T_0e013_level0_col2\" class=\"col_heading level0 col2\" >humidity</th>\n",
              "      <th id=\"T_0e013_level0_col3\" class=\"col_heading level0 col3\" >windy</th>\n",
              "      <th id=\"T_0e013_level0_col4\" class=\"col_heading level0 col4\" >play</th>\n",
              "    </tr>\n",
              "  </thead>\n",
              "  <tbody>\n",
              "    <tr>\n",
              "      <th id=\"T_0e013_level0_row0\" class=\"row_heading level0 row0\" >0</th>\n",
              "      <td id=\"T_0e013_row0_col0\" class=\"data row0 col0\" >sunny</td>\n",
              "      <td id=\"T_0e013_row0_col1\" class=\"data row0 col1\" >hot</td>\n",
              "      <td id=\"T_0e013_row0_col2\" class=\"data row0 col2\" >high</td>\n",
              "      <td id=\"T_0e013_row0_col3\" class=\"data row0 col3\" >False</td>\n",
              "      <td id=\"T_0e013_row0_col4\" class=\"data row0 col4\" >no</td>\n",
              "    </tr>\n",
              "    <tr>\n",
              "      <th id=\"T_0e013_level0_row1\" class=\"row_heading level0 row1\" >1</th>\n",
              "      <td id=\"T_0e013_row1_col0\" class=\"data row1 col0\" >sunny</td>\n",
              "      <td id=\"T_0e013_row1_col1\" class=\"data row1 col1\" >hot</td>\n",
              "      <td id=\"T_0e013_row1_col2\" class=\"data row1 col2\" >high</td>\n",
              "      <td id=\"T_0e013_row1_col3\" class=\"data row1 col3\" >True</td>\n",
              "      <td id=\"T_0e013_row1_col4\" class=\"data row1 col4\" >no</td>\n",
              "    </tr>\n",
              "    <tr>\n",
              "      <th id=\"T_0e013_level0_row2\" class=\"row_heading level0 row2\" >2</th>\n",
              "      <td id=\"T_0e013_row2_col0\" class=\"data row2 col0\" >overcast</td>\n",
              "      <td id=\"T_0e013_row2_col1\" class=\"data row2 col1\" >hot</td>\n",
              "      <td id=\"T_0e013_row2_col2\" class=\"data row2 col2\" >high</td>\n",
              "      <td id=\"T_0e013_row2_col3\" class=\"data row2 col3\" >False</td>\n",
              "      <td id=\"T_0e013_row2_col4\" class=\"data row2 col4\" >yes</td>\n",
              "    </tr>\n",
              "    <tr>\n",
              "      <th id=\"T_0e013_level0_row3\" class=\"row_heading level0 row3\" >3</th>\n",
              "      <td id=\"T_0e013_row3_col0\" class=\"data row3 col0\" >rainy</td>\n",
              "      <td id=\"T_0e013_row3_col1\" class=\"data row3 col1\" >mild</td>\n",
              "      <td id=\"T_0e013_row3_col2\" class=\"data row3 col2\" >high</td>\n",
              "      <td id=\"T_0e013_row3_col3\" class=\"data row3 col3\" >False</td>\n",
              "      <td id=\"T_0e013_row3_col4\" class=\"data row3 col4\" >yes</td>\n",
              "    </tr>\n",
              "    <tr>\n",
              "      <th id=\"T_0e013_level0_row4\" class=\"row_heading level0 row4\" >4</th>\n",
              "      <td id=\"T_0e013_row4_col0\" class=\"data row4 col0\" >rainy</td>\n",
              "      <td id=\"T_0e013_row4_col1\" class=\"data row4 col1\" >cool</td>\n",
              "      <td id=\"T_0e013_row4_col2\" class=\"data row4 col2\" >normal</td>\n",
              "      <td id=\"T_0e013_row4_col3\" class=\"data row4 col3\" >False</td>\n",
              "      <td id=\"T_0e013_row4_col4\" class=\"data row4 col4\" >yes</td>\n",
              "    </tr>\n",
              "    <tr>\n",
              "      <th id=\"T_0e013_level0_row5\" class=\"row_heading level0 row5\" >5</th>\n",
              "      <td id=\"T_0e013_row5_col0\" class=\"data row5 col0\" >rainy</td>\n",
              "      <td id=\"T_0e013_row5_col1\" class=\"data row5 col1\" >cool</td>\n",
              "      <td id=\"T_0e013_row5_col2\" class=\"data row5 col2\" >normal</td>\n",
              "      <td id=\"T_0e013_row5_col3\" class=\"data row5 col3\" >True</td>\n",
              "      <td id=\"T_0e013_row5_col4\" class=\"data row5 col4\" >no</td>\n",
              "    </tr>\n",
              "    <tr>\n",
              "      <th id=\"T_0e013_level0_row6\" class=\"row_heading level0 row6\" >6</th>\n",
              "      <td id=\"T_0e013_row6_col0\" class=\"data row6 col0\" >overcast</td>\n",
              "      <td id=\"T_0e013_row6_col1\" class=\"data row6 col1\" >cool</td>\n",
              "      <td id=\"T_0e013_row6_col2\" class=\"data row6 col2\" >normal</td>\n",
              "      <td id=\"T_0e013_row6_col3\" class=\"data row6 col3\" >True</td>\n",
              "      <td id=\"T_0e013_row6_col4\" class=\"data row6 col4\" >yes</td>\n",
              "    </tr>\n",
              "    <tr>\n",
              "      <th id=\"T_0e013_level0_row7\" class=\"row_heading level0 row7\" >7</th>\n",
              "      <td id=\"T_0e013_row7_col0\" class=\"data row7 col0\" >sunny</td>\n",
              "      <td id=\"T_0e013_row7_col1\" class=\"data row7 col1\" >mild</td>\n",
              "      <td id=\"T_0e013_row7_col2\" class=\"data row7 col2\" >high</td>\n",
              "      <td id=\"T_0e013_row7_col3\" class=\"data row7 col3\" >False</td>\n",
              "      <td id=\"T_0e013_row7_col4\" class=\"data row7 col4\" >no</td>\n",
              "    </tr>\n",
              "    <tr>\n",
              "      <th id=\"T_0e013_level0_row8\" class=\"row_heading level0 row8\" >8</th>\n",
              "      <td id=\"T_0e013_row8_col0\" class=\"data row8 col0\" >sunny</td>\n",
              "      <td id=\"T_0e013_row8_col1\" class=\"data row8 col1\" >cool</td>\n",
              "      <td id=\"T_0e013_row8_col2\" class=\"data row8 col2\" >normal</td>\n",
              "      <td id=\"T_0e013_row8_col3\" class=\"data row8 col3\" >False</td>\n",
              "      <td id=\"T_0e013_row8_col4\" class=\"data row8 col4\" >yes</td>\n",
              "    </tr>\n",
              "    <tr>\n",
              "      <th id=\"T_0e013_level0_row9\" class=\"row_heading level0 row9\" >9</th>\n",
              "      <td id=\"T_0e013_row9_col0\" class=\"data row9 col0\" >rainy</td>\n",
              "      <td id=\"T_0e013_row9_col1\" class=\"data row9 col1\" >mild</td>\n",
              "      <td id=\"T_0e013_row9_col2\" class=\"data row9 col2\" >normal</td>\n",
              "      <td id=\"T_0e013_row9_col3\" class=\"data row9 col3\" >False</td>\n",
              "      <td id=\"T_0e013_row9_col4\" class=\"data row9 col4\" >yes</td>\n",
              "    </tr>\n",
              "    <tr>\n",
              "      <th id=\"T_0e013_level0_row10\" class=\"row_heading level0 row10\" >10</th>\n",
              "      <td id=\"T_0e013_row10_col0\" class=\"data row10 col0\" >sunny</td>\n",
              "      <td id=\"T_0e013_row10_col1\" class=\"data row10 col1\" >mild</td>\n",
              "      <td id=\"T_0e013_row10_col2\" class=\"data row10 col2\" >normal</td>\n",
              "      <td id=\"T_0e013_row10_col3\" class=\"data row10 col3\" >True</td>\n",
              "      <td id=\"T_0e013_row10_col4\" class=\"data row10 col4\" >yes</td>\n",
              "    </tr>\n",
              "    <tr>\n",
              "      <th id=\"T_0e013_level0_row11\" class=\"row_heading level0 row11\" >11</th>\n",
              "      <td id=\"T_0e013_row11_col0\" class=\"data row11 col0\" >overcast</td>\n",
              "      <td id=\"T_0e013_row11_col1\" class=\"data row11 col1\" >mild</td>\n",
              "      <td id=\"T_0e013_row11_col2\" class=\"data row11 col2\" >high</td>\n",
              "      <td id=\"T_0e013_row11_col3\" class=\"data row11 col3\" >True</td>\n",
              "      <td id=\"T_0e013_row11_col4\" class=\"data row11 col4\" >yes</td>\n",
              "    </tr>\n",
              "    <tr>\n",
              "      <th id=\"T_0e013_level0_row12\" class=\"row_heading level0 row12\" >12</th>\n",
              "      <td id=\"T_0e013_row12_col0\" class=\"data row12 col0\" >overcast</td>\n",
              "      <td id=\"T_0e013_row12_col1\" class=\"data row12 col1\" >hot</td>\n",
              "      <td id=\"T_0e013_row12_col2\" class=\"data row12 col2\" >normal</td>\n",
              "      <td id=\"T_0e013_row12_col3\" class=\"data row12 col3\" >False</td>\n",
              "      <td id=\"T_0e013_row12_col4\" class=\"data row12 col4\" >yes</td>\n",
              "    </tr>\n",
              "    <tr>\n",
              "      <th id=\"T_0e013_level0_row13\" class=\"row_heading level0 row13\" >13</th>\n",
              "      <td id=\"T_0e013_row13_col0\" class=\"data row13 col0\" >rainy</td>\n",
              "      <td id=\"T_0e013_row13_col1\" class=\"data row13 col1\" >mild</td>\n",
              "      <td id=\"T_0e013_row13_col2\" class=\"data row13 col2\" >high</td>\n",
              "      <td id=\"T_0e013_row13_col3\" class=\"data row13 col3\" >True</td>\n",
              "      <td id=\"T_0e013_row13_col4\" class=\"data row13 col4\" >no</td>\n",
              "    </tr>\n",
              "  </tbody>\n",
              "</table>\n"
            ]
          },
          "metadata": {},
          "execution_count": 9
        }
      ]
    },
    {
      "cell_type": "code",
      "source": [
        "entropy_and_infogain(data, 'outlook')"
      ],
      "metadata": {
        "colab": {
          "base_uri": "https://localhost:8080/",
          "height": 640
        },
        "id": "a6LxLW99mZt_",
        "outputId": "925dee22-ac5c-47c0-f7a9-c6ea6fdadc63"
      },
      "execution_count": null,
      "outputs": [
        {
          "output_type": "display_data",
          "data": {
            "text/plain": [
              "<pandas.io.formats.style.Styler at 0x794c9f3c33d0>"
            ],
            "text/html": [
              "<style type=\"text/css\">\n",
              "#T_b6035 th {\n",
              "  background-color: lightgray;\n",
              "  border: 1px solid gray;\n",
              "  font-weight: bold;\n",
              "}\n",
              "#T_b6035 td {\n",
              "  border: 1px solid gray;\n",
              "}\n",
              "#T_b6035 tr:hover {\n",
              "  background-color: white;\n",
              "  border: 1.5px solid black;\n",
              "}\n",
              "#T_b6035_row0_col0, #T_b6035_row1_col0, #T_b6035_row2_col0, #T_b6035_row3_col0, #T_b6035_row4_col0 {\n",
              "  width: 80px;\n",
              "}\n",
              "#T_b6035_row0_col1, #T_b6035_row1_col1, #T_b6035_row2_col1 {\n",
              "  background-color: pink;\n",
              "  width: 80px;\n",
              "}\n",
              "#T_b6035_row3_col1, #T_b6035_row4_col1 {\n",
              "  background-color: lightgreen;\n",
              "  width: 80px;\n",
              "}\n",
              "</style>\n",
              "<table id=\"T_b6035\" class=\"dataframe\">\n",
              "  <thead>\n",
              "    <tr>\n",
              "      <th class=\"blank level0\" >&nbsp;</th>\n",
              "      <th id=\"T_b6035_level0_col0\" class=\"col_heading level0 col0\" >outlook</th>\n",
              "      <th id=\"T_b6035_level0_col1\" class=\"col_heading level0 col1\" >play</th>\n",
              "    </tr>\n",
              "  </thead>\n",
              "  <tbody>\n",
              "    <tr>\n",
              "      <th id=\"T_b6035_level0_row0\" class=\"row_heading level0 row0\" >0</th>\n",
              "      <td id=\"T_b6035_row0_col0\" class=\"data row0 col0\" >sunny</td>\n",
              "      <td id=\"T_b6035_row0_col1\" class=\"data row0 col1\" >no</td>\n",
              "    </tr>\n",
              "    <tr>\n",
              "      <th id=\"T_b6035_level0_row1\" class=\"row_heading level0 row1\" >1</th>\n",
              "      <td id=\"T_b6035_row1_col0\" class=\"data row1 col0\" >sunny</td>\n",
              "      <td id=\"T_b6035_row1_col1\" class=\"data row1 col1\" >no</td>\n",
              "    </tr>\n",
              "    <tr>\n",
              "      <th id=\"T_b6035_level0_row2\" class=\"row_heading level0 row2\" >7</th>\n",
              "      <td id=\"T_b6035_row2_col0\" class=\"data row2 col0\" >sunny</td>\n",
              "      <td id=\"T_b6035_row2_col1\" class=\"data row2 col1\" >no</td>\n",
              "    </tr>\n",
              "    <tr>\n",
              "      <th id=\"T_b6035_level0_row3\" class=\"row_heading level0 row3\" >8</th>\n",
              "      <td id=\"T_b6035_row3_col0\" class=\"data row3 col0\" >sunny</td>\n",
              "      <td id=\"T_b6035_row3_col1\" class=\"data row3 col1\" >yes</td>\n",
              "    </tr>\n",
              "    <tr>\n",
              "      <th id=\"T_b6035_level0_row4\" class=\"row_heading level0 row4\" >10</th>\n",
              "      <td id=\"T_b6035_row4_col0\" class=\"data row4 col0\" >sunny</td>\n",
              "      <td id=\"T_b6035_row4_col1\" class=\"data row4 col1\" >yes</td>\n",
              "    </tr>\n",
              "  </tbody>\n",
              "</table>\n"
            ]
          },
          "metadata": {}
        },
        {
          "output_type": "stream",
          "name": "stdout",
          "text": [
            "Entropy of outlook - sunny = 0.971\n"
          ]
        },
        {
          "output_type": "display_data",
          "data": {
            "text/plain": [
              "<pandas.io.formats.style.Styler at 0x794c9f3c33d0>"
            ],
            "text/html": [
              "<style type=\"text/css\">\n",
              "#T_90fed th {\n",
              "  background-color: lightgray;\n",
              "  border: 1px solid gray;\n",
              "  font-weight: bold;\n",
              "}\n",
              "#T_90fed td {\n",
              "  border: 1px solid gray;\n",
              "}\n",
              "#T_90fed tr:hover {\n",
              "  background-color: white;\n",
              "  border: 1.5px solid black;\n",
              "}\n",
              "#T_90fed_row0_col0, #T_90fed_row1_col0, #T_90fed_row2_col0, #T_90fed_row3_col0 {\n",
              "  width: 80px;\n",
              "}\n",
              "#T_90fed_row0_col1, #T_90fed_row1_col1, #T_90fed_row2_col1, #T_90fed_row3_col1 {\n",
              "  background-color: lightgreen;\n",
              "  width: 80px;\n",
              "}\n",
              "</style>\n",
              "<table id=\"T_90fed\" class=\"dataframe\">\n",
              "  <thead>\n",
              "    <tr>\n",
              "      <th class=\"blank level0\" >&nbsp;</th>\n",
              "      <th id=\"T_90fed_level0_col0\" class=\"col_heading level0 col0\" >outlook</th>\n",
              "      <th id=\"T_90fed_level0_col1\" class=\"col_heading level0 col1\" >play</th>\n",
              "    </tr>\n",
              "  </thead>\n",
              "  <tbody>\n",
              "    <tr>\n",
              "      <th id=\"T_90fed_level0_row0\" class=\"row_heading level0 row0\" >2</th>\n",
              "      <td id=\"T_90fed_row0_col0\" class=\"data row0 col0\" >overcast</td>\n",
              "      <td id=\"T_90fed_row0_col1\" class=\"data row0 col1\" >yes</td>\n",
              "    </tr>\n",
              "    <tr>\n",
              "      <th id=\"T_90fed_level0_row1\" class=\"row_heading level0 row1\" >6</th>\n",
              "      <td id=\"T_90fed_row1_col0\" class=\"data row1 col0\" >overcast</td>\n",
              "      <td id=\"T_90fed_row1_col1\" class=\"data row1 col1\" >yes</td>\n",
              "    </tr>\n",
              "    <tr>\n",
              "      <th id=\"T_90fed_level0_row2\" class=\"row_heading level0 row2\" >11</th>\n",
              "      <td id=\"T_90fed_row2_col0\" class=\"data row2 col0\" >overcast</td>\n",
              "      <td id=\"T_90fed_row2_col1\" class=\"data row2 col1\" >yes</td>\n",
              "    </tr>\n",
              "    <tr>\n",
              "      <th id=\"T_90fed_level0_row3\" class=\"row_heading level0 row3\" >12</th>\n",
              "      <td id=\"T_90fed_row3_col0\" class=\"data row3 col0\" >overcast</td>\n",
              "      <td id=\"T_90fed_row3_col1\" class=\"data row3 col1\" >yes</td>\n",
              "    </tr>\n",
              "  </tbody>\n",
              "</table>\n"
            ]
          },
          "metadata": {}
        },
        {
          "output_type": "stream",
          "name": "stdout",
          "text": [
            "Entropy of outlook - overcast = 0.0\n"
          ]
        },
        {
          "output_type": "display_data",
          "data": {
            "text/plain": [
              "<pandas.io.formats.style.Styler at 0x794c9f3c33d0>"
            ],
            "text/html": [
              "<style type=\"text/css\">\n",
              "#T_89c59 th {\n",
              "  background-color: lightgray;\n",
              "  border: 1px solid gray;\n",
              "  font-weight: bold;\n",
              "}\n",
              "#T_89c59 td {\n",
              "  border: 1px solid gray;\n",
              "}\n",
              "#T_89c59 tr:hover {\n",
              "  background-color: white;\n",
              "  border: 1.5px solid black;\n",
              "}\n",
              "#T_89c59_row0_col0, #T_89c59_row1_col0, #T_89c59_row2_col0, #T_89c59_row3_col0, #T_89c59_row4_col0 {\n",
              "  width: 80px;\n",
              "}\n",
              "#T_89c59_row0_col1, #T_89c59_row1_col1, #T_89c59_row3_col1 {\n",
              "  background-color: lightgreen;\n",
              "  width: 80px;\n",
              "}\n",
              "#T_89c59_row2_col1, #T_89c59_row4_col1 {\n",
              "  background-color: pink;\n",
              "  width: 80px;\n",
              "}\n",
              "</style>\n",
              "<table id=\"T_89c59\" class=\"dataframe\">\n",
              "  <thead>\n",
              "    <tr>\n",
              "      <th class=\"blank level0\" >&nbsp;</th>\n",
              "      <th id=\"T_89c59_level0_col0\" class=\"col_heading level0 col0\" >outlook</th>\n",
              "      <th id=\"T_89c59_level0_col1\" class=\"col_heading level0 col1\" >play</th>\n",
              "    </tr>\n",
              "  </thead>\n",
              "  <tbody>\n",
              "    <tr>\n",
              "      <th id=\"T_89c59_level0_row0\" class=\"row_heading level0 row0\" >3</th>\n",
              "      <td id=\"T_89c59_row0_col0\" class=\"data row0 col0\" >rainy</td>\n",
              "      <td id=\"T_89c59_row0_col1\" class=\"data row0 col1\" >yes</td>\n",
              "    </tr>\n",
              "    <tr>\n",
              "      <th id=\"T_89c59_level0_row1\" class=\"row_heading level0 row1\" >4</th>\n",
              "      <td id=\"T_89c59_row1_col0\" class=\"data row1 col0\" >rainy</td>\n",
              "      <td id=\"T_89c59_row1_col1\" class=\"data row1 col1\" >yes</td>\n",
              "    </tr>\n",
              "    <tr>\n",
              "      <th id=\"T_89c59_level0_row2\" class=\"row_heading level0 row2\" >5</th>\n",
              "      <td id=\"T_89c59_row2_col0\" class=\"data row2 col0\" >rainy</td>\n",
              "      <td id=\"T_89c59_row2_col1\" class=\"data row2 col1\" >no</td>\n",
              "    </tr>\n",
              "    <tr>\n",
              "      <th id=\"T_89c59_level0_row3\" class=\"row_heading level0 row3\" >9</th>\n",
              "      <td id=\"T_89c59_row3_col0\" class=\"data row3 col0\" >rainy</td>\n",
              "      <td id=\"T_89c59_row3_col1\" class=\"data row3 col1\" >yes</td>\n",
              "    </tr>\n",
              "    <tr>\n",
              "      <th id=\"T_89c59_level0_row4\" class=\"row_heading level0 row4\" >13</th>\n",
              "      <td id=\"T_89c59_row4_col0\" class=\"data row4 col0\" >rainy</td>\n",
              "      <td id=\"T_89c59_row4_col1\" class=\"data row4 col1\" >no</td>\n",
              "    </tr>\n",
              "  </tbody>\n",
              "</table>\n"
            ]
          },
          "metadata": {}
        },
        {
          "output_type": "stream",
          "name": "stdout",
          "text": [
            "Entropy of outlook - rainy = 0.971\n",
            "Information Gain for outlook = 0.246\n"
          ]
        }
      ]
    },
    {
      "cell_type": "code",
      "source": [
        "entropy_and_infogain(data, 'temp')"
      ],
      "metadata": {
        "colab": {
          "base_uri": "https://localhost:8080/",
          "height": 640
        },
        "id": "9C2urFGCmfHP",
        "outputId": "494e4b04-414a-4c66-e4fc-b08ff349ee96"
      },
      "execution_count": null,
      "outputs": [
        {
          "output_type": "display_data",
          "data": {
            "text/plain": [
              "<pandas.io.formats.style.Styler at 0x794c9f3c1e70>"
            ],
            "text/html": [
              "<style type=\"text/css\">\n",
              "#T_baf59 th {\n",
              "  background-color: lightgray;\n",
              "  border: 1px solid gray;\n",
              "  font-weight: bold;\n",
              "}\n",
              "#T_baf59 td {\n",
              "  border: 1px solid gray;\n",
              "}\n",
              "#T_baf59 tr:hover {\n",
              "  background-color: white;\n",
              "  border: 1.5px solid black;\n",
              "}\n",
              "#T_baf59_row0_col0, #T_baf59_row1_col0, #T_baf59_row2_col0, #T_baf59_row3_col0 {\n",
              "  width: 80px;\n",
              "}\n",
              "#T_baf59_row0_col1, #T_baf59_row1_col1 {\n",
              "  background-color: pink;\n",
              "  width: 80px;\n",
              "}\n",
              "#T_baf59_row2_col1, #T_baf59_row3_col1 {\n",
              "  background-color: lightgreen;\n",
              "  width: 80px;\n",
              "}\n",
              "</style>\n",
              "<table id=\"T_baf59\" class=\"dataframe\">\n",
              "  <thead>\n",
              "    <tr>\n",
              "      <th class=\"blank level0\" >&nbsp;</th>\n",
              "      <th id=\"T_baf59_level0_col0\" class=\"col_heading level0 col0\" >temp</th>\n",
              "      <th id=\"T_baf59_level0_col1\" class=\"col_heading level0 col1\" >play</th>\n",
              "    </tr>\n",
              "  </thead>\n",
              "  <tbody>\n",
              "    <tr>\n",
              "      <th id=\"T_baf59_level0_row0\" class=\"row_heading level0 row0\" >0</th>\n",
              "      <td id=\"T_baf59_row0_col0\" class=\"data row0 col0\" >hot</td>\n",
              "      <td id=\"T_baf59_row0_col1\" class=\"data row0 col1\" >no</td>\n",
              "    </tr>\n",
              "    <tr>\n",
              "      <th id=\"T_baf59_level0_row1\" class=\"row_heading level0 row1\" >1</th>\n",
              "      <td id=\"T_baf59_row1_col0\" class=\"data row1 col0\" >hot</td>\n",
              "      <td id=\"T_baf59_row1_col1\" class=\"data row1 col1\" >no</td>\n",
              "    </tr>\n",
              "    <tr>\n",
              "      <th id=\"T_baf59_level0_row2\" class=\"row_heading level0 row2\" >2</th>\n",
              "      <td id=\"T_baf59_row2_col0\" class=\"data row2 col0\" >hot</td>\n",
              "      <td id=\"T_baf59_row2_col1\" class=\"data row2 col1\" >yes</td>\n",
              "    </tr>\n",
              "    <tr>\n",
              "      <th id=\"T_baf59_level0_row3\" class=\"row_heading level0 row3\" >12</th>\n",
              "      <td id=\"T_baf59_row3_col0\" class=\"data row3 col0\" >hot</td>\n",
              "      <td id=\"T_baf59_row3_col1\" class=\"data row3 col1\" >yes</td>\n",
              "    </tr>\n",
              "  </tbody>\n",
              "</table>\n"
            ]
          },
          "metadata": {}
        },
        {
          "output_type": "stream",
          "name": "stdout",
          "text": [
            "Entropy of temp - hot = 1.0\n"
          ]
        },
        {
          "output_type": "display_data",
          "data": {
            "text/plain": [
              "<pandas.io.formats.style.Styler at 0x794c9f3c1e70>"
            ],
            "text/html": [
              "<style type=\"text/css\">\n",
              "#T_db94c th {\n",
              "  background-color: lightgray;\n",
              "  border: 1px solid gray;\n",
              "  font-weight: bold;\n",
              "}\n",
              "#T_db94c td {\n",
              "  border: 1px solid gray;\n",
              "}\n",
              "#T_db94c tr:hover {\n",
              "  background-color: white;\n",
              "  border: 1.5px solid black;\n",
              "}\n",
              "#T_db94c_row0_col0, #T_db94c_row1_col0, #T_db94c_row2_col0, #T_db94c_row3_col0, #T_db94c_row4_col0, #T_db94c_row5_col0 {\n",
              "  width: 80px;\n",
              "}\n",
              "#T_db94c_row0_col1, #T_db94c_row2_col1, #T_db94c_row3_col1, #T_db94c_row4_col1 {\n",
              "  background-color: lightgreen;\n",
              "  width: 80px;\n",
              "}\n",
              "#T_db94c_row1_col1, #T_db94c_row5_col1 {\n",
              "  background-color: pink;\n",
              "  width: 80px;\n",
              "}\n",
              "</style>\n",
              "<table id=\"T_db94c\" class=\"dataframe\">\n",
              "  <thead>\n",
              "    <tr>\n",
              "      <th class=\"blank level0\" >&nbsp;</th>\n",
              "      <th id=\"T_db94c_level0_col0\" class=\"col_heading level0 col0\" >temp</th>\n",
              "      <th id=\"T_db94c_level0_col1\" class=\"col_heading level0 col1\" >play</th>\n",
              "    </tr>\n",
              "  </thead>\n",
              "  <tbody>\n",
              "    <tr>\n",
              "      <th id=\"T_db94c_level0_row0\" class=\"row_heading level0 row0\" >3</th>\n",
              "      <td id=\"T_db94c_row0_col0\" class=\"data row0 col0\" >mild</td>\n",
              "      <td id=\"T_db94c_row0_col1\" class=\"data row0 col1\" >yes</td>\n",
              "    </tr>\n",
              "    <tr>\n",
              "      <th id=\"T_db94c_level0_row1\" class=\"row_heading level0 row1\" >7</th>\n",
              "      <td id=\"T_db94c_row1_col0\" class=\"data row1 col0\" >mild</td>\n",
              "      <td id=\"T_db94c_row1_col1\" class=\"data row1 col1\" >no</td>\n",
              "    </tr>\n",
              "    <tr>\n",
              "      <th id=\"T_db94c_level0_row2\" class=\"row_heading level0 row2\" >9</th>\n",
              "      <td id=\"T_db94c_row2_col0\" class=\"data row2 col0\" >mild</td>\n",
              "      <td id=\"T_db94c_row2_col1\" class=\"data row2 col1\" >yes</td>\n",
              "    </tr>\n",
              "    <tr>\n",
              "      <th id=\"T_db94c_level0_row3\" class=\"row_heading level0 row3\" >10</th>\n",
              "      <td id=\"T_db94c_row3_col0\" class=\"data row3 col0\" >mild</td>\n",
              "      <td id=\"T_db94c_row3_col1\" class=\"data row3 col1\" >yes</td>\n",
              "    </tr>\n",
              "    <tr>\n",
              "      <th id=\"T_db94c_level0_row4\" class=\"row_heading level0 row4\" >11</th>\n",
              "      <td id=\"T_db94c_row4_col0\" class=\"data row4 col0\" >mild</td>\n",
              "      <td id=\"T_db94c_row4_col1\" class=\"data row4 col1\" >yes</td>\n",
              "    </tr>\n",
              "    <tr>\n",
              "      <th id=\"T_db94c_level0_row5\" class=\"row_heading level0 row5\" >13</th>\n",
              "      <td id=\"T_db94c_row5_col0\" class=\"data row5 col0\" >mild</td>\n",
              "      <td id=\"T_db94c_row5_col1\" class=\"data row5 col1\" >no</td>\n",
              "    </tr>\n",
              "  </tbody>\n",
              "</table>\n"
            ]
          },
          "metadata": {}
        },
        {
          "output_type": "stream",
          "name": "stdout",
          "text": [
            "Entropy of temp - mild = 0.918\n"
          ]
        },
        {
          "output_type": "display_data",
          "data": {
            "text/plain": [
              "<pandas.io.formats.style.Styler at 0x794c9f65b5b0>"
            ],
            "text/html": [
              "<style type=\"text/css\">\n",
              "#T_23115 th {\n",
              "  background-color: lightgray;\n",
              "  border: 1px solid gray;\n",
              "  font-weight: bold;\n",
              "}\n",
              "#T_23115 td {\n",
              "  border: 1px solid gray;\n",
              "}\n",
              "#T_23115 tr:hover {\n",
              "  background-color: white;\n",
              "  border: 1.5px solid black;\n",
              "}\n",
              "#T_23115_row0_col0, #T_23115_row1_col0, #T_23115_row2_col0, #T_23115_row3_col0 {\n",
              "  width: 80px;\n",
              "}\n",
              "#T_23115_row0_col1, #T_23115_row2_col1, #T_23115_row3_col1 {\n",
              "  background-color: lightgreen;\n",
              "  width: 80px;\n",
              "}\n",
              "#T_23115_row1_col1 {\n",
              "  background-color: pink;\n",
              "  width: 80px;\n",
              "}\n",
              "</style>\n",
              "<table id=\"T_23115\" class=\"dataframe\">\n",
              "  <thead>\n",
              "    <tr>\n",
              "      <th class=\"blank level0\" >&nbsp;</th>\n",
              "      <th id=\"T_23115_level0_col0\" class=\"col_heading level0 col0\" >temp</th>\n",
              "      <th id=\"T_23115_level0_col1\" class=\"col_heading level0 col1\" >play</th>\n",
              "    </tr>\n",
              "  </thead>\n",
              "  <tbody>\n",
              "    <tr>\n",
              "      <th id=\"T_23115_level0_row0\" class=\"row_heading level0 row0\" >4</th>\n",
              "      <td id=\"T_23115_row0_col0\" class=\"data row0 col0\" >cool</td>\n",
              "      <td id=\"T_23115_row0_col1\" class=\"data row0 col1\" >yes</td>\n",
              "    </tr>\n",
              "    <tr>\n",
              "      <th id=\"T_23115_level0_row1\" class=\"row_heading level0 row1\" >5</th>\n",
              "      <td id=\"T_23115_row1_col0\" class=\"data row1 col0\" >cool</td>\n",
              "      <td id=\"T_23115_row1_col1\" class=\"data row1 col1\" >no</td>\n",
              "    </tr>\n",
              "    <tr>\n",
              "      <th id=\"T_23115_level0_row2\" class=\"row_heading level0 row2\" >6</th>\n",
              "      <td id=\"T_23115_row2_col0\" class=\"data row2 col0\" >cool</td>\n",
              "      <td id=\"T_23115_row2_col1\" class=\"data row2 col1\" >yes</td>\n",
              "    </tr>\n",
              "    <tr>\n",
              "      <th id=\"T_23115_level0_row3\" class=\"row_heading level0 row3\" >8</th>\n",
              "      <td id=\"T_23115_row3_col0\" class=\"data row3 col0\" >cool</td>\n",
              "      <td id=\"T_23115_row3_col1\" class=\"data row3 col1\" >yes</td>\n",
              "    </tr>\n",
              "  </tbody>\n",
              "</table>\n"
            ]
          },
          "metadata": {}
        },
        {
          "output_type": "stream",
          "name": "stdout",
          "text": [
            "Entropy of temp - cool = 0.811\n",
            "Information Gain for temp = 0.029\n"
          ]
        }
      ]
    },
    {
      "cell_type": "code",
      "source": [
        "entropy_and_infogain(data, 'humidity')"
      ],
      "metadata": {
        "colab": {
          "base_uri": "https://localhost:8080/",
          "height": 589
        },
        "id": "-WQNBaLWmgz9",
        "outputId": "4bf93716-f7db-4ad1-9241-7cd9c4547922"
      },
      "execution_count": null,
      "outputs": [
        {
          "output_type": "display_data",
          "data": {
            "text/plain": [
              "<pandas.io.formats.style.Styler at 0x794c9f65ad70>"
            ],
            "text/html": [
              "<style type=\"text/css\">\n",
              "#T_ac390 th {\n",
              "  background-color: lightgray;\n",
              "  border: 1px solid gray;\n",
              "  font-weight: bold;\n",
              "}\n",
              "#T_ac390 td {\n",
              "  border: 1px solid gray;\n",
              "}\n",
              "#T_ac390 tr:hover {\n",
              "  background-color: white;\n",
              "  border: 1.5px solid black;\n",
              "}\n",
              "#T_ac390_row0_col0, #T_ac390_row1_col0, #T_ac390_row2_col0, #T_ac390_row3_col0, #T_ac390_row4_col0, #T_ac390_row5_col0, #T_ac390_row6_col0 {\n",
              "  width: 80px;\n",
              "}\n",
              "#T_ac390_row0_col1, #T_ac390_row1_col1, #T_ac390_row4_col1, #T_ac390_row6_col1 {\n",
              "  background-color: pink;\n",
              "  width: 80px;\n",
              "}\n",
              "#T_ac390_row2_col1, #T_ac390_row3_col1, #T_ac390_row5_col1 {\n",
              "  background-color: lightgreen;\n",
              "  width: 80px;\n",
              "}\n",
              "</style>\n",
              "<table id=\"T_ac390\" class=\"dataframe\">\n",
              "  <thead>\n",
              "    <tr>\n",
              "      <th class=\"blank level0\" >&nbsp;</th>\n",
              "      <th id=\"T_ac390_level0_col0\" class=\"col_heading level0 col0\" >humidity</th>\n",
              "      <th id=\"T_ac390_level0_col1\" class=\"col_heading level0 col1\" >play</th>\n",
              "    </tr>\n",
              "  </thead>\n",
              "  <tbody>\n",
              "    <tr>\n",
              "      <th id=\"T_ac390_level0_row0\" class=\"row_heading level0 row0\" >0</th>\n",
              "      <td id=\"T_ac390_row0_col0\" class=\"data row0 col0\" >high</td>\n",
              "      <td id=\"T_ac390_row0_col1\" class=\"data row0 col1\" >no</td>\n",
              "    </tr>\n",
              "    <tr>\n",
              "      <th id=\"T_ac390_level0_row1\" class=\"row_heading level0 row1\" >1</th>\n",
              "      <td id=\"T_ac390_row1_col0\" class=\"data row1 col0\" >high</td>\n",
              "      <td id=\"T_ac390_row1_col1\" class=\"data row1 col1\" >no</td>\n",
              "    </tr>\n",
              "    <tr>\n",
              "      <th id=\"T_ac390_level0_row2\" class=\"row_heading level0 row2\" >2</th>\n",
              "      <td id=\"T_ac390_row2_col0\" class=\"data row2 col0\" >high</td>\n",
              "      <td id=\"T_ac390_row2_col1\" class=\"data row2 col1\" >yes</td>\n",
              "    </tr>\n",
              "    <tr>\n",
              "      <th id=\"T_ac390_level0_row3\" class=\"row_heading level0 row3\" >3</th>\n",
              "      <td id=\"T_ac390_row3_col0\" class=\"data row3 col0\" >high</td>\n",
              "      <td id=\"T_ac390_row3_col1\" class=\"data row3 col1\" >yes</td>\n",
              "    </tr>\n",
              "    <tr>\n",
              "      <th id=\"T_ac390_level0_row4\" class=\"row_heading level0 row4\" >7</th>\n",
              "      <td id=\"T_ac390_row4_col0\" class=\"data row4 col0\" >high</td>\n",
              "      <td id=\"T_ac390_row4_col1\" class=\"data row4 col1\" >no</td>\n",
              "    </tr>\n",
              "    <tr>\n",
              "      <th id=\"T_ac390_level0_row5\" class=\"row_heading level0 row5\" >11</th>\n",
              "      <td id=\"T_ac390_row5_col0\" class=\"data row5 col0\" >high</td>\n",
              "      <td id=\"T_ac390_row5_col1\" class=\"data row5 col1\" >yes</td>\n",
              "    </tr>\n",
              "    <tr>\n",
              "      <th id=\"T_ac390_level0_row6\" class=\"row_heading level0 row6\" >13</th>\n",
              "      <td id=\"T_ac390_row6_col0\" class=\"data row6 col0\" >high</td>\n",
              "      <td id=\"T_ac390_row6_col1\" class=\"data row6 col1\" >no</td>\n",
              "    </tr>\n",
              "  </tbody>\n",
              "</table>\n"
            ]
          },
          "metadata": {}
        },
        {
          "output_type": "stream",
          "name": "stdout",
          "text": [
            "Entropy of humidity - high = 0.985\n"
          ]
        },
        {
          "output_type": "display_data",
          "data": {
            "text/plain": [
              "<pandas.io.formats.style.Styler at 0x794c9f65b0d0>"
            ],
            "text/html": [
              "<style type=\"text/css\">\n",
              "#T_3479e th {\n",
              "  background-color: lightgray;\n",
              "  border: 1px solid gray;\n",
              "  font-weight: bold;\n",
              "}\n",
              "#T_3479e td {\n",
              "  border: 1px solid gray;\n",
              "}\n",
              "#T_3479e tr:hover {\n",
              "  background-color: white;\n",
              "  border: 1.5px solid black;\n",
              "}\n",
              "#T_3479e_row0_col0, #T_3479e_row1_col0, #T_3479e_row2_col0, #T_3479e_row3_col0, #T_3479e_row4_col0, #T_3479e_row5_col0, #T_3479e_row6_col0 {\n",
              "  width: 80px;\n",
              "}\n",
              "#T_3479e_row0_col1, #T_3479e_row2_col1, #T_3479e_row3_col1, #T_3479e_row4_col1, #T_3479e_row5_col1, #T_3479e_row6_col1 {\n",
              "  background-color: lightgreen;\n",
              "  width: 80px;\n",
              "}\n",
              "#T_3479e_row1_col1 {\n",
              "  background-color: pink;\n",
              "  width: 80px;\n",
              "}\n",
              "</style>\n",
              "<table id=\"T_3479e\" class=\"dataframe\">\n",
              "  <thead>\n",
              "    <tr>\n",
              "      <th class=\"blank level0\" >&nbsp;</th>\n",
              "      <th id=\"T_3479e_level0_col0\" class=\"col_heading level0 col0\" >humidity</th>\n",
              "      <th id=\"T_3479e_level0_col1\" class=\"col_heading level0 col1\" >play</th>\n",
              "    </tr>\n",
              "  </thead>\n",
              "  <tbody>\n",
              "    <tr>\n",
              "      <th id=\"T_3479e_level0_row0\" class=\"row_heading level0 row0\" >4</th>\n",
              "      <td id=\"T_3479e_row0_col0\" class=\"data row0 col0\" >normal</td>\n",
              "      <td id=\"T_3479e_row0_col1\" class=\"data row0 col1\" >yes</td>\n",
              "    </tr>\n",
              "    <tr>\n",
              "      <th id=\"T_3479e_level0_row1\" class=\"row_heading level0 row1\" >5</th>\n",
              "      <td id=\"T_3479e_row1_col0\" class=\"data row1 col0\" >normal</td>\n",
              "      <td id=\"T_3479e_row1_col1\" class=\"data row1 col1\" >no</td>\n",
              "    </tr>\n",
              "    <tr>\n",
              "      <th id=\"T_3479e_level0_row2\" class=\"row_heading level0 row2\" >6</th>\n",
              "      <td id=\"T_3479e_row2_col0\" class=\"data row2 col0\" >normal</td>\n",
              "      <td id=\"T_3479e_row2_col1\" class=\"data row2 col1\" >yes</td>\n",
              "    </tr>\n",
              "    <tr>\n",
              "      <th id=\"T_3479e_level0_row3\" class=\"row_heading level0 row3\" >8</th>\n",
              "      <td id=\"T_3479e_row3_col0\" class=\"data row3 col0\" >normal</td>\n",
              "      <td id=\"T_3479e_row3_col1\" class=\"data row3 col1\" >yes</td>\n",
              "    </tr>\n",
              "    <tr>\n",
              "      <th id=\"T_3479e_level0_row4\" class=\"row_heading level0 row4\" >9</th>\n",
              "      <td id=\"T_3479e_row4_col0\" class=\"data row4 col0\" >normal</td>\n",
              "      <td id=\"T_3479e_row4_col1\" class=\"data row4 col1\" >yes</td>\n",
              "    </tr>\n",
              "    <tr>\n",
              "      <th id=\"T_3479e_level0_row5\" class=\"row_heading level0 row5\" >10</th>\n",
              "      <td id=\"T_3479e_row5_col0\" class=\"data row5 col0\" >normal</td>\n",
              "      <td id=\"T_3479e_row5_col1\" class=\"data row5 col1\" >yes</td>\n",
              "    </tr>\n",
              "    <tr>\n",
              "      <th id=\"T_3479e_level0_row6\" class=\"row_heading level0 row6\" >12</th>\n",
              "      <td id=\"T_3479e_row6_col0\" class=\"data row6 col0\" >normal</td>\n",
              "      <td id=\"T_3479e_row6_col1\" class=\"data row6 col1\" >yes</td>\n",
              "    </tr>\n",
              "  </tbody>\n",
              "</table>\n"
            ]
          },
          "metadata": {}
        },
        {
          "output_type": "stream",
          "name": "stdout",
          "text": [
            "Entropy of humidity - normal = 0.592\n",
            "Information Gain for humidity = 0.151\n"
          ]
        }
      ]
    },
    {
      "cell_type": "code",
      "source": [
        "entropy_and_infogain(data, 'windy')"
      ],
      "metadata": {
        "colab": {
          "base_uri": "https://localhost:8080/",
          "height": 589
        },
        "id": "34h_n062m08f",
        "outputId": "d965c05f-78e7-420b-e351-46ce98c34cca"
      },
      "execution_count": null,
      "outputs": [
        {
          "output_type": "display_data",
          "data": {
            "text/plain": [
              "<pandas.io.formats.style.Styler at 0x794c9f658d60>"
            ],
            "text/html": [
              "<style type=\"text/css\">\n",
              "#T_e5e71 th {\n",
              "  background-color: lightgray;\n",
              "  border: 1px solid gray;\n",
              "  font-weight: bold;\n",
              "}\n",
              "#T_e5e71 td {\n",
              "  border: 1px solid gray;\n",
              "}\n",
              "#T_e5e71 tr:hover {\n",
              "  background-color: white;\n",
              "  border: 1.5px solid black;\n",
              "}\n",
              "#T_e5e71_row0_col0, #T_e5e71_row1_col0, #T_e5e71_row2_col0, #T_e5e71_row3_col0, #T_e5e71_row4_col0, #T_e5e71_row5_col0, #T_e5e71_row6_col0, #T_e5e71_row7_col0 {\n",
              "  width: 80px;\n",
              "}\n",
              "#T_e5e71_row0_col1, #T_e5e71_row4_col1 {\n",
              "  background-color: pink;\n",
              "  width: 80px;\n",
              "}\n",
              "#T_e5e71_row1_col1, #T_e5e71_row2_col1, #T_e5e71_row3_col1, #T_e5e71_row5_col1, #T_e5e71_row6_col1, #T_e5e71_row7_col1 {\n",
              "  background-color: lightgreen;\n",
              "  width: 80px;\n",
              "}\n",
              "</style>\n",
              "<table id=\"T_e5e71\" class=\"dataframe\">\n",
              "  <thead>\n",
              "    <tr>\n",
              "      <th class=\"blank level0\" >&nbsp;</th>\n",
              "      <th id=\"T_e5e71_level0_col0\" class=\"col_heading level0 col0\" >windy</th>\n",
              "      <th id=\"T_e5e71_level0_col1\" class=\"col_heading level0 col1\" >play</th>\n",
              "    </tr>\n",
              "  </thead>\n",
              "  <tbody>\n",
              "    <tr>\n",
              "      <th id=\"T_e5e71_level0_row0\" class=\"row_heading level0 row0\" >0</th>\n",
              "      <td id=\"T_e5e71_row0_col0\" class=\"data row0 col0\" >False</td>\n",
              "      <td id=\"T_e5e71_row0_col1\" class=\"data row0 col1\" >no</td>\n",
              "    </tr>\n",
              "    <tr>\n",
              "      <th id=\"T_e5e71_level0_row1\" class=\"row_heading level0 row1\" >2</th>\n",
              "      <td id=\"T_e5e71_row1_col0\" class=\"data row1 col0\" >False</td>\n",
              "      <td id=\"T_e5e71_row1_col1\" class=\"data row1 col1\" >yes</td>\n",
              "    </tr>\n",
              "    <tr>\n",
              "      <th id=\"T_e5e71_level0_row2\" class=\"row_heading level0 row2\" >3</th>\n",
              "      <td id=\"T_e5e71_row2_col0\" class=\"data row2 col0\" >False</td>\n",
              "      <td id=\"T_e5e71_row2_col1\" class=\"data row2 col1\" >yes</td>\n",
              "    </tr>\n",
              "    <tr>\n",
              "      <th id=\"T_e5e71_level0_row3\" class=\"row_heading level0 row3\" >4</th>\n",
              "      <td id=\"T_e5e71_row3_col0\" class=\"data row3 col0\" >False</td>\n",
              "      <td id=\"T_e5e71_row3_col1\" class=\"data row3 col1\" >yes</td>\n",
              "    </tr>\n",
              "    <tr>\n",
              "      <th id=\"T_e5e71_level0_row4\" class=\"row_heading level0 row4\" >7</th>\n",
              "      <td id=\"T_e5e71_row4_col0\" class=\"data row4 col0\" >False</td>\n",
              "      <td id=\"T_e5e71_row4_col1\" class=\"data row4 col1\" >no</td>\n",
              "    </tr>\n",
              "    <tr>\n",
              "      <th id=\"T_e5e71_level0_row5\" class=\"row_heading level0 row5\" >8</th>\n",
              "      <td id=\"T_e5e71_row5_col0\" class=\"data row5 col0\" >False</td>\n",
              "      <td id=\"T_e5e71_row5_col1\" class=\"data row5 col1\" >yes</td>\n",
              "    </tr>\n",
              "    <tr>\n",
              "      <th id=\"T_e5e71_level0_row6\" class=\"row_heading level0 row6\" >9</th>\n",
              "      <td id=\"T_e5e71_row6_col0\" class=\"data row6 col0\" >False</td>\n",
              "      <td id=\"T_e5e71_row6_col1\" class=\"data row6 col1\" >yes</td>\n",
              "    </tr>\n",
              "    <tr>\n",
              "      <th id=\"T_e5e71_level0_row7\" class=\"row_heading level0 row7\" >12</th>\n",
              "      <td id=\"T_e5e71_row7_col0\" class=\"data row7 col0\" >False</td>\n",
              "      <td id=\"T_e5e71_row7_col1\" class=\"data row7 col1\" >yes</td>\n",
              "    </tr>\n",
              "  </tbody>\n",
              "</table>\n"
            ]
          },
          "metadata": {}
        },
        {
          "output_type": "stream",
          "name": "stdout",
          "text": [
            "Entropy of windy - False = 0.811\n"
          ]
        },
        {
          "output_type": "display_data",
          "data": {
            "text/plain": [
              "<pandas.io.formats.style.Styler at 0x794c9f65b550>"
            ],
            "text/html": [
              "<style type=\"text/css\">\n",
              "#T_38c50 th {\n",
              "  background-color: lightgray;\n",
              "  border: 1px solid gray;\n",
              "  font-weight: bold;\n",
              "}\n",
              "#T_38c50 td {\n",
              "  border: 1px solid gray;\n",
              "}\n",
              "#T_38c50 tr:hover {\n",
              "  background-color: white;\n",
              "  border: 1.5px solid black;\n",
              "}\n",
              "#T_38c50_row0_col0, #T_38c50_row1_col0, #T_38c50_row2_col0, #T_38c50_row3_col0, #T_38c50_row4_col0, #T_38c50_row5_col0 {\n",
              "  width: 80px;\n",
              "}\n",
              "#T_38c50_row0_col1, #T_38c50_row1_col1, #T_38c50_row5_col1 {\n",
              "  background-color: pink;\n",
              "  width: 80px;\n",
              "}\n",
              "#T_38c50_row2_col1, #T_38c50_row3_col1, #T_38c50_row4_col1 {\n",
              "  background-color: lightgreen;\n",
              "  width: 80px;\n",
              "}\n",
              "</style>\n",
              "<table id=\"T_38c50\" class=\"dataframe\">\n",
              "  <thead>\n",
              "    <tr>\n",
              "      <th class=\"blank level0\" >&nbsp;</th>\n",
              "      <th id=\"T_38c50_level0_col0\" class=\"col_heading level0 col0\" >windy</th>\n",
              "      <th id=\"T_38c50_level0_col1\" class=\"col_heading level0 col1\" >play</th>\n",
              "    </tr>\n",
              "  </thead>\n",
              "  <tbody>\n",
              "    <tr>\n",
              "      <th id=\"T_38c50_level0_row0\" class=\"row_heading level0 row0\" >1</th>\n",
              "      <td id=\"T_38c50_row0_col0\" class=\"data row0 col0\" >True</td>\n",
              "      <td id=\"T_38c50_row0_col1\" class=\"data row0 col1\" >no</td>\n",
              "    </tr>\n",
              "    <tr>\n",
              "      <th id=\"T_38c50_level0_row1\" class=\"row_heading level0 row1\" >5</th>\n",
              "      <td id=\"T_38c50_row1_col0\" class=\"data row1 col0\" >True</td>\n",
              "      <td id=\"T_38c50_row1_col1\" class=\"data row1 col1\" >no</td>\n",
              "    </tr>\n",
              "    <tr>\n",
              "      <th id=\"T_38c50_level0_row2\" class=\"row_heading level0 row2\" >6</th>\n",
              "      <td id=\"T_38c50_row2_col0\" class=\"data row2 col0\" >True</td>\n",
              "      <td id=\"T_38c50_row2_col1\" class=\"data row2 col1\" >yes</td>\n",
              "    </tr>\n",
              "    <tr>\n",
              "      <th id=\"T_38c50_level0_row3\" class=\"row_heading level0 row3\" >10</th>\n",
              "      <td id=\"T_38c50_row3_col0\" class=\"data row3 col0\" >True</td>\n",
              "      <td id=\"T_38c50_row3_col1\" class=\"data row3 col1\" >yes</td>\n",
              "    </tr>\n",
              "    <tr>\n",
              "      <th id=\"T_38c50_level0_row4\" class=\"row_heading level0 row4\" >11</th>\n",
              "      <td id=\"T_38c50_row4_col0\" class=\"data row4 col0\" >True</td>\n",
              "      <td id=\"T_38c50_row4_col1\" class=\"data row4 col1\" >yes</td>\n",
              "    </tr>\n",
              "    <tr>\n",
              "      <th id=\"T_38c50_level0_row5\" class=\"row_heading level0 row5\" >13</th>\n",
              "      <td id=\"T_38c50_row5_col0\" class=\"data row5 col0\" >True</td>\n",
              "      <td id=\"T_38c50_row5_col1\" class=\"data row5 col1\" >no</td>\n",
              "    </tr>\n",
              "  </tbody>\n",
              "</table>\n"
            ]
          },
          "metadata": {}
        },
        {
          "output_type": "stream",
          "name": "stdout",
          "text": [
            "Entropy of windy - True = 1.0\n",
            "Information Gain for windy = 0.048\n"
          ]
        }
      ]
    },
    {
      "cell_type": "code",
      "source": [
        "sunny = data[data['outlook'] == 'sunny']\n",
        "sunny.style.applymap(highlight)\\\n",
        "    .set_properties(subset=data.columns, **{'width': '100px'})\\\n",
        "    .set_table_styles([{'selector': 'th', 'props': [('background-color', 'lightgray'), ('border', '1px solid gray'),\n",
        "                                                    ('font-weight', 'bold')]},\n",
        "     {'selector': 'tr:hover', 'props': [('background-color', 'white'), ('border', '1.5px solid black')]}])"
      ],
      "metadata": {
        "colab": {
          "base_uri": "https://localhost:8080/",
          "height": 212
        },
        "id": "0MXgUpUXq-Us",
        "outputId": "1b663e6f-88f6-4fef-a902-c6f9d533f555"
      },
      "execution_count": null,
      "outputs": [
        {
          "output_type": "execute_result",
          "data": {
            "text/plain": [
              "<pandas.io.formats.style.Styler at 0x794c9f3c1270>"
            ],
            "text/html": [
              "<style type=\"text/css\">\n",
              "#T_ba783 th {\n",
              "  background-color: lightgray;\n",
              "  border: 1px solid gray;\n",
              "  font-weight: bold;\n",
              "}\n",
              "#T_ba783 tr:hover {\n",
              "  background-color: white;\n",
              "  border: 1.5px solid black;\n",
              "}\n",
              "#T_ba783_row0_col0, #T_ba783_row0_col1, #T_ba783_row0_col2, #T_ba783_row0_col3, #T_ba783_row1_col0, #T_ba783_row1_col1, #T_ba783_row1_col2, #T_ba783_row1_col3, #T_ba783_row2_col0, #T_ba783_row2_col1, #T_ba783_row2_col2, #T_ba783_row2_col3, #T_ba783_row3_col0, #T_ba783_row3_col1, #T_ba783_row3_col2, #T_ba783_row3_col3, #T_ba783_row4_col0, #T_ba783_row4_col1, #T_ba783_row4_col2, #T_ba783_row4_col3 {\n",
              "  width: 100px;\n",
              "}\n",
              "#T_ba783_row0_col4, #T_ba783_row1_col4, #T_ba783_row2_col4 {\n",
              "  background-color: pink;\n",
              "  width: 100px;\n",
              "}\n",
              "#T_ba783_row3_col4, #T_ba783_row4_col4 {\n",
              "  background-color: lightgreen;\n",
              "  width: 100px;\n",
              "}\n",
              "</style>\n",
              "<table id=\"T_ba783\" class=\"dataframe\">\n",
              "  <thead>\n",
              "    <tr>\n",
              "      <th class=\"blank level0\" >&nbsp;</th>\n",
              "      <th id=\"T_ba783_level0_col0\" class=\"col_heading level0 col0\" >outlook</th>\n",
              "      <th id=\"T_ba783_level0_col1\" class=\"col_heading level0 col1\" >temp</th>\n",
              "      <th id=\"T_ba783_level0_col2\" class=\"col_heading level0 col2\" >humidity</th>\n",
              "      <th id=\"T_ba783_level0_col3\" class=\"col_heading level0 col3\" >windy</th>\n",
              "      <th id=\"T_ba783_level0_col4\" class=\"col_heading level0 col4\" >play</th>\n",
              "    </tr>\n",
              "  </thead>\n",
              "  <tbody>\n",
              "    <tr>\n",
              "      <th id=\"T_ba783_level0_row0\" class=\"row_heading level0 row0\" >0</th>\n",
              "      <td id=\"T_ba783_row0_col0\" class=\"data row0 col0\" >sunny</td>\n",
              "      <td id=\"T_ba783_row0_col1\" class=\"data row0 col1\" >hot</td>\n",
              "      <td id=\"T_ba783_row0_col2\" class=\"data row0 col2\" >high</td>\n",
              "      <td id=\"T_ba783_row0_col3\" class=\"data row0 col3\" >False</td>\n",
              "      <td id=\"T_ba783_row0_col4\" class=\"data row0 col4\" >no</td>\n",
              "    </tr>\n",
              "    <tr>\n",
              "      <th id=\"T_ba783_level0_row1\" class=\"row_heading level0 row1\" >1</th>\n",
              "      <td id=\"T_ba783_row1_col0\" class=\"data row1 col0\" >sunny</td>\n",
              "      <td id=\"T_ba783_row1_col1\" class=\"data row1 col1\" >hot</td>\n",
              "      <td id=\"T_ba783_row1_col2\" class=\"data row1 col2\" >high</td>\n",
              "      <td id=\"T_ba783_row1_col3\" class=\"data row1 col3\" >True</td>\n",
              "      <td id=\"T_ba783_row1_col4\" class=\"data row1 col4\" >no</td>\n",
              "    </tr>\n",
              "    <tr>\n",
              "      <th id=\"T_ba783_level0_row2\" class=\"row_heading level0 row2\" >7</th>\n",
              "      <td id=\"T_ba783_row2_col0\" class=\"data row2 col0\" >sunny</td>\n",
              "      <td id=\"T_ba783_row2_col1\" class=\"data row2 col1\" >mild</td>\n",
              "      <td id=\"T_ba783_row2_col2\" class=\"data row2 col2\" >high</td>\n",
              "      <td id=\"T_ba783_row2_col3\" class=\"data row2 col3\" >False</td>\n",
              "      <td id=\"T_ba783_row2_col4\" class=\"data row2 col4\" >no</td>\n",
              "    </tr>\n",
              "    <tr>\n",
              "      <th id=\"T_ba783_level0_row3\" class=\"row_heading level0 row3\" >8</th>\n",
              "      <td id=\"T_ba783_row3_col0\" class=\"data row3 col0\" >sunny</td>\n",
              "      <td id=\"T_ba783_row3_col1\" class=\"data row3 col1\" >cool</td>\n",
              "      <td id=\"T_ba783_row3_col2\" class=\"data row3 col2\" >normal</td>\n",
              "      <td id=\"T_ba783_row3_col3\" class=\"data row3 col3\" >False</td>\n",
              "      <td id=\"T_ba783_row3_col4\" class=\"data row3 col4\" >yes</td>\n",
              "    </tr>\n",
              "    <tr>\n",
              "      <th id=\"T_ba783_level0_row4\" class=\"row_heading level0 row4\" >10</th>\n",
              "      <td id=\"T_ba783_row4_col0\" class=\"data row4 col0\" >sunny</td>\n",
              "      <td id=\"T_ba783_row4_col1\" class=\"data row4 col1\" >mild</td>\n",
              "      <td id=\"T_ba783_row4_col2\" class=\"data row4 col2\" >normal</td>\n",
              "      <td id=\"T_ba783_row4_col3\" class=\"data row4 col3\" >True</td>\n",
              "      <td id=\"T_ba783_row4_col4\" class=\"data row4 col4\" >yes</td>\n",
              "    </tr>\n",
              "  </tbody>\n",
              "</table>\n"
            ]
          },
          "metadata": {},
          "execution_count": 15
        }
      ]
    },
    {
      "cell_type": "code",
      "source": [
        "print(f'Entropy of the Sunny dataset: {find_entropy(sunny.play)}')"
      ],
      "metadata": {
        "colab": {
          "base_uri": "https://localhost:8080/"
        },
        "id": "wKqbqq7LrBMH",
        "outputId": "37db721b-78c1-47aa-bba9-2fbff157c35a"
      },
      "execution_count": null,
      "outputs": [
        {
          "output_type": "stream",
          "name": "stdout",
          "text": [
            "Entropy of the Sunny dataset: 0.971\n"
          ]
        }
      ]
    },
    {
      "cell_type": "code",
      "source": [
        "entropy_and_infogain(sunny, 'temp')"
      ],
      "metadata": {
        "colab": {
          "base_uri": "https://localhost:8080/",
          "height": 348
        },
        "id": "KwaiWs8yrCOO",
        "outputId": "bd8ae730-3c62-4e1f-c437-ed1465594b19"
      },
      "execution_count": null,
      "outputs": [
        {
          "output_type": "display_data",
          "data": {
            "text/plain": [
              "<pandas.io.formats.style.Styler at 0x794ccf296c20>"
            ],
            "text/html": [
              "<style type=\"text/css\">\n",
              "#T_64d40 th {\n",
              "  background-color: lightgray;\n",
              "  border: 1px solid gray;\n",
              "  font-weight: bold;\n",
              "}\n",
              "#T_64d40 td {\n",
              "  border: 1px solid gray;\n",
              "}\n",
              "#T_64d40 tr:hover {\n",
              "  background-color: white;\n",
              "  border: 1.5px solid black;\n",
              "}\n",
              "#T_64d40_row0_col0, #T_64d40_row1_col0 {\n",
              "  width: 80px;\n",
              "}\n",
              "#T_64d40_row0_col1, #T_64d40_row1_col1 {\n",
              "  background-color: pink;\n",
              "  width: 80px;\n",
              "}\n",
              "</style>\n",
              "<table id=\"T_64d40\" class=\"dataframe\">\n",
              "  <thead>\n",
              "    <tr>\n",
              "      <th class=\"blank level0\" >&nbsp;</th>\n",
              "      <th id=\"T_64d40_level0_col0\" class=\"col_heading level0 col0\" >temp</th>\n",
              "      <th id=\"T_64d40_level0_col1\" class=\"col_heading level0 col1\" >play</th>\n",
              "    </tr>\n",
              "  </thead>\n",
              "  <tbody>\n",
              "    <tr>\n",
              "      <th id=\"T_64d40_level0_row0\" class=\"row_heading level0 row0\" >0</th>\n",
              "      <td id=\"T_64d40_row0_col0\" class=\"data row0 col0\" >hot</td>\n",
              "      <td id=\"T_64d40_row0_col1\" class=\"data row0 col1\" >no</td>\n",
              "    </tr>\n",
              "    <tr>\n",
              "      <th id=\"T_64d40_level0_row1\" class=\"row_heading level0 row1\" >1</th>\n",
              "      <td id=\"T_64d40_row1_col0\" class=\"data row1 col0\" >hot</td>\n",
              "      <td id=\"T_64d40_row1_col1\" class=\"data row1 col1\" >no</td>\n",
              "    </tr>\n",
              "  </tbody>\n",
              "</table>\n"
            ]
          },
          "metadata": {}
        },
        {
          "output_type": "stream",
          "name": "stdout",
          "text": [
            "Entropy of temp - hot = 0.0\n"
          ]
        },
        {
          "output_type": "display_data",
          "data": {
            "text/plain": [
              "<pandas.io.formats.style.Styler at 0x794c9f3c21a0>"
            ],
            "text/html": [
              "<style type=\"text/css\">\n",
              "#T_be7f8 th {\n",
              "  background-color: lightgray;\n",
              "  border: 1px solid gray;\n",
              "  font-weight: bold;\n",
              "}\n",
              "#T_be7f8 td {\n",
              "  border: 1px solid gray;\n",
              "}\n",
              "#T_be7f8 tr:hover {\n",
              "  background-color: white;\n",
              "  border: 1.5px solid black;\n",
              "}\n",
              "#T_be7f8_row0_col0, #T_be7f8_row1_col0 {\n",
              "  width: 80px;\n",
              "}\n",
              "#T_be7f8_row0_col1 {\n",
              "  background-color: pink;\n",
              "  width: 80px;\n",
              "}\n",
              "#T_be7f8_row1_col1 {\n",
              "  background-color: lightgreen;\n",
              "  width: 80px;\n",
              "}\n",
              "</style>\n",
              "<table id=\"T_be7f8\" class=\"dataframe\">\n",
              "  <thead>\n",
              "    <tr>\n",
              "      <th class=\"blank level0\" >&nbsp;</th>\n",
              "      <th id=\"T_be7f8_level0_col0\" class=\"col_heading level0 col0\" >temp</th>\n",
              "      <th id=\"T_be7f8_level0_col1\" class=\"col_heading level0 col1\" >play</th>\n",
              "    </tr>\n",
              "  </thead>\n",
              "  <tbody>\n",
              "    <tr>\n",
              "      <th id=\"T_be7f8_level0_row0\" class=\"row_heading level0 row0\" >7</th>\n",
              "      <td id=\"T_be7f8_row0_col0\" class=\"data row0 col0\" >mild</td>\n",
              "      <td id=\"T_be7f8_row0_col1\" class=\"data row0 col1\" >no</td>\n",
              "    </tr>\n",
              "    <tr>\n",
              "      <th id=\"T_be7f8_level0_row1\" class=\"row_heading level0 row1\" >10</th>\n",
              "      <td id=\"T_be7f8_row1_col0\" class=\"data row1 col0\" >mild</td>\n",
              "      <td id=\"T_be7f8_row1_col1\" class=\"data row1 col1\" >yes</td>\n",
              "    </tr>\n",
              "  </tbody>\n",
              "</table>\n"
            ]
          },
          "metadata": {}
        },
        {
          "output_type": "stream",
          "name": "stdout",
          "text": [
            "Entropy of temp - mild = 1.0\n"
          ]
        },
        {
          "output_type": "display_data",
          "data": {
            "text/plain": [
              "<pandas.io.formats.style.Styler at 0x794c9f3c2560>"
            ],
            "text/html": [
              "<style type=\"text/css\">\n",
              "#T_d8e04 th {\n",
              "  background-color: lightgray;\n",
              "  border: 1px solid gray;\n",
              "  font-weight: bold;\n",
              "}\n",
              "#T_d8e04 td {\n",
              "  border: 1px solid gray;\n",
              "}\n",
              "#T_d8e04 tr:hover {\n",
              "  background-color: white;\n",
              "  border: 1.5px solid black;\n",
              "}\n",
              "#T_d8e04_row0_col0 {\n",
              "  width: 80px;\n",
              "}\n",
              "#T_d8e04_row0_col1 {\n",
              "  background-color: lightgreen;\n",
              "  width: 80px;\n",
              "}\n",
              "</style>\n",
              "<table id=\"T_d8e04\" class=\"dataframe\">\n",
              "  <thead>\n",
              "    <tr>\n",
              "      <th class=\"blank level0\" >&nbsp;</th>\n",
              "      <th id=\"T_d8e04_level0_col0\" class=\"col_heading level0 col0\" >temp</th>\n",
              "      <th id=\"T_d8e04_level0_col1\" class=\"col_heading level0 col1\" >play</th>\n",
              "    </tr>\n",
              "  </thead>\n",
              "  <tbody>\n",
              "    <tr>\n",
              "      <th id=\"T_d8e04_level0_row0\" class=\"row_heading level0 row0\" >8</th>\n",
              "      <td id=\"T_d8e04_row0_col0\" class=\"data row0 col0\" >cool</td>\n",
              "      <td id=\"T_d8e04_row0_col1\" class=\"data row0 col1\" >yes</td>\n",
              "    </tr>\n",
              "  </tbody>\n",
              "</table>\n"
            ]
          },
          "metadata": {}
        },
        {
          "output_type": "stream",
          "name": "stdout",
          "text": [
            "Entropy of temp - cool = 0.0\n",
            "Information Gain for temp = 0.571\n"
          ]
        }
      ]
    },
    {
      "cell_type": "code",
      "source": [
        "entropy_and_infogain(sunny, 'humidity')"
      ],
      "metadata": {
        "colab": {
          "base_uri": "https://localhost:8080/",
          "height": 298
        },
        "id": "6xCT4diYrE3u",
        "outputId": "2759dcd6-b95c-4fb0-cfbd-2a6079f71b27"
      },
      "execution_count": null,
      "outputs": [
        {
          "output_type": "display_data",
          "data": {
            "text/plain": [
              "<pandas.io.formats.style.Styler at 0x794c9f3c2470>"
            ],
            "text/html": [
              "<style type=\"text/css\">\n",
              "#T_3ab94 th {\n",
              "  background-color: lightgray;\n",
              "  border: 1px solid gray;\n",
              "  font-weight: bold;\n",
              "}\n",
              "#T_3ab94 td {\n",
              "  border: 1px solid gray;\n",
              "}\n",
              "#T_3ab94 tr:hover {\n",
              "  background-color: white;\n",
              "  border: 1.5px solid black;\n",
              "}\n",
              "#T_3ab94_row0_col0, #T_3ab94_row1_col0, #T_3ab94_row2_col0 {\n",
              "  width: 80px;\n",
              "}\n",
              "#T_3ab94_row0_col1, #T_3ab94_row1_col1, #T_3ab94_row2_col1 {\n",
              "  background-color: pink;\n",
              "  width: 80px;\n",
              "}\n",
              "</style>\n",
              "<table id=\"T_3ab94\" class=\"dataframe\">\n",
              "  <thead>\n",
              "    <tr>\n",
              "      <th class=\"blank level0\" >&nbsp;</th>\n",
              "      <th id=\"T_3ab94_level0_col0\" class=\"col_heading level0 col0\" >humidity</th>\n",
              "      <th id=\"T_3ab94_level0_col1\" class=\"col_heading level0 col1\" >play</th>\n",
              "    </tr>\n",
              "  </thead>\n",
              "  <tbody>\n",
              "    <tr>\n",
              "      <th id=\"T_3ab94_level0_row0\" class=\"row_heading level0 row0\" >0</th>\n",
              "      <td id=\"T_3ab94_row0_col0\" class=\"data row0 col0\" >high</td>\n",
              "      <td id=\"T_3ab94_row0_col1\" class=\"data row0 col1\" >no</td>\n",
              "    </tr>\n",
              "    <tr>\n",
              "      <th id=\"T_3ab94_level0_row1\" class=\"row_heading level0 row1\" >1</th>\n",
              "      <td id=\"T_3ab94_row1_col0\" class=\"data row1 col0\" >high</td>\n",
              "      <td id=\"T_3ab94_row1_col1\" class=\"data row1 col1\" >no</td>\n",
              "    </tr>\n",
              "    <tr>\n",
              "      <th id=\"T_3ab94_level0_row2\" class=\"row_heading level0 row2\" >7</th>\n",
              "      <td id=\"T_3ab94_row2_col0\" class=\"data row2 col0\" >high</td>\n",
              "      <td id=\"T_3ab94_row2_col1\" class=\"data row2 col1\" >no</td>\n",
              "    </tr>\n",
              "  </tbody>\n",
              "</table>\n"
            ]
          },
          "metadata": {}
        },
        {
          "output_type": "stream",
          "name": "stdout",
          "text": [
            "Entropy of humidity - high = 0.0\n"
          ]
        },
        {
          "output_type": "display_data",
          "data": {
            "text/plain": [
              "<pandas.io.formats.style.Styler at 0x794c9f3c2560>"
            ],
            "text/html": [
              "<style type=\"text/css\">\n",
              "#T_778b0 th {\n",
              "  background-color: lightgray;\n",
              "  border: 1px solid gray;\n",
              "  font-weight: bold;\n",
              "}\n",
              "#T_778b0 td {\n",
              "  border: 1px solid gray;\n",
              "}\n",
              "#T_778b0 tr:hover {\n",
              "  background-color: white;\n",
              "  border: 1.5px solid black;\n",
              "}\n",
              "#T_778b0_row0_col0, #T_778b0_row1_col0 {\n",
              "  width: 80px;\n",
              "}\n",
              "#T_778b0_row0_col1, #T_778b0_row1_col1 {\n",
              "  background-color: lightgreen;\n",
              "  width: 80px;\n",
              "}\n",
              "</style>\n",
              "<table id=\"T_778b0\" class=\"dataframe\">\n",
              "  <thead>\n",
              "    <tr>\n",
              "      <th class=\"blank level0\" >&nbsp;</th>\n",
              "      <th id=\"T_778b0_level0_col0\" class=\"col_heading level0 col0\" >humidity</th>\n",
              "      <th id=\"T_778b0_level0_col1\" class=\"col_heading level0 col1\" >play</th>\n",
              "    </tr>\n",
              "  </thead>\n",
              "  <tbody>\n",
              "    <tr>\n",
              "      <th id=\"T_778b0_level0_row0\" class=\"row_heading level0 row0\" >8</th>\n",
              "      <td id=\"T_778b0_row0_col0\" class=\"data row0 col0\" >normal</td>\n",
              "      <td id=\"T_778b0_row0_col1\" class=\"data row0 col1\" >yes</td>\n",
              "    </tr>\n",
              "    <tr>\n",
              "      <th id=\"T_778b0_level0_row1\" class=\"row_heading level0 row1\" >10</th>\n",
              "      <td id=\"T_778b0_row1_col0\" class=\"data row1 col0\" >normal</td>\n",
              "      <td id=\"T_778b0_row1_col1\" class=\"data row1 col1\" >yes</td>\n",
              "    </tr>\n",
              "  </tbody>\n",
              "</table>\n"
            ]
          },
          "metadata": {}
        },
        {
          "output_type": "stream",
          "name": "stdout",
          "text": [
            "Entropy of humidity - normal = 0.0\n",
            "Information Gain for humidity = 0.971\n"
          ]
        }
      ]
    },
    {
      "cell_type": "code",
      "source": [
        "entropy_and_infogain(sunny, 'windy')"
      ],
      "metadata": {
        "colab": {
          "base_uri": "https://localhost:8080/",
          "height": 298
        },
        "id": "FrZi9abcrHk2",
        "outputId": "04fc9d02-3755-4f79-b31d-3085622d901f"
      },
      "execution_count": null,
      "outputs": [
        {
          "output_type": "display_data",
          "data": {
            "text/plain": [
              "<pandas.io.formats.style.Styler at 0x794c9f3c29e0>"
            ],
            "text/html": [
              "<style type=\"text/css\">\n",
              "#T_f920e th {\n",
              "  background-color: lightgray;\n",
              "  border: 1px solid gray;\n",
              "  font-weight: bold;\n",
              "}\n",
              "#T_f920e td {\n",
              "  border: 1px solid gray;\n",
              "}\n",
              "#T_f920e tr:hover {\n",
              "  background-color: white;\n",
              "  border: 1.5px solid black;\n",
              "}\n",
              "#T_f920e_row0_col0, #T_f920e_row1_col0, #T_f920e_row2_col0 {\n",
              "  width: 80px;\n",
              "}\n",
              "#T_f920e_row0_col1, #T_f920e_row1_col1 {\n",
              "  background-color: pink;\n",
              "  width: 80px;\n",
              "}\n",
              "#T_f920e_row2_col1 {\n",
              "  background-color: lightgreen;\n",
              "  width: 80px;\n",
              "}\n",
              "</style>\n",
              "<table id=\"T_f920e\" class=\"dataframe\">\n",
              "  <thead>\n",
              "    <tr>\n",
              "      <th class=\"blank level0\" >&nbsp;</th>\n",
              "      <th id=\"T_f920e_level0_col0\" class=\"col_heading level0 col0\" >windy</th>\n",
              "      <th id=\"T_f920e_level0_col1\" class=\"col_heading level0 col1\" >play</th>\n",
              "    </tr>\n",
              "  </thead>\n",
              "  <tbody>\n",
              "    <tr>\n",
              "      <th id=\"T_f920e_level0_row0\" class=\"row_heading level0 row0\" >0</th>\n",
              "      <td id=\"T_f920e_row0_col0\" class=\"data row0 col0\" >False</td>\n",
              "      <td id=\"T_f920e_row0_col1\" class=\"data row0 col1\" >no</td>\n",
              "    </tr>\n",
              "    <tr>\n",
              "      <th id=\"T_f920e_level0_row1\" class=\"row_heading level0 row1\" >7</th>\n",
              "      <td id=\"T_f920e_row1_col0\" class=\"data row1 col0\" >False</td>\n",
              "      <td id=\"T_f920e_row1_col1\" class=\"data row1 col1\" >no</td>\n",
              "    </tr>\n",
              "    <tr>\n",
              "      <th id=\"T_f920e_level0_row2\" class=\"row_heading level0 row2\" >8</th>\n",
              "      <td id=\"T_f920e_row2_col0\" class=\"data row2 col0\" >False</td>\n",
              "      <td id=\"T_f920e_row2_col1\" class=\"data row2 col1\" >yes</td>\n",
              "    </tr>\n",
              "  </tbody>\n",
              "</table>\n"
            ]
          },
          "metadata": {}
        },
        {
          "output_type": "stream",
          "name": "stdout",
          "text": [
            "Entropy of windy - False = 0.918\n"
          ]
        },
        {
          "output_type": "display_data",
          "data": {
            "text/plain": [
              "<pandas.io.formats.style.Styler at 0x794c9f3c29e0>"
            ],
            "text/html": [
              "<style type=\"text/css\">\n",
              "#T_26a8f th {\n",
              "  background-color: lightgray;\n",
              "  border: 1px solid gray;\n",
              "  font-weight: bold;\n",
              "}\n",
              "#T_26a8f td {\n",
              "  border: 1px solid gray;\n",
              "}\n",
              "#T_26a8f tr:hover {\n",
              "  background-color: white;\n",
              "  border: 1.5px solid black;\n",
              "}\n",
              "#T_26a8f_row0_col0, #T_26a8f_row1_col0 {\n",
              "  width: 80px;\n",
              "}\n",
              "#T_26a8f_row0_col1 {\n",
              "  background-color: pink;\n",
              "  width: 80px;\n",
              "}\n",
              "#T_26a8f_row1_col1 {\n",
              "  background-color: lightgreen;\n",
              "  width: 80px;\n",
              "}\n",
              "</style>\n",
              "<table id=\"T_26a8f\" class=\"dataframe\">\n",
              "  <thead>\n",
              "    <tr>\n",
              "      <th class=\"blank level0\" >&nbsp;</th>\n",
              "      <th id=\"T_26a8f_level0_col0\" class=\"col_heading level0 col0\" >windy</th>\n",
              "      <th id=\"T_26a8f_level0_col1\" class=\"col_heading level0 col1\" >play</th>\n",
              "    </tr>\n",
              "  </thead>\n",
              "  <tbody>\n",
              "    <tr>\n",
              "      <th id=\"T_26a8f_level0_row0\" class=\"row_heading level0 row0\" >1</th>\n",
              "      <td id=\"T_26a8f_row0_col0\" class=\"data row0 col0\" >True</td>\n",
              "      <td id=\"T_26a8f_row0_col1\" class=\"data row0 col1\" >no</td>\n",
              "    </tr>\n",
              "    <tr>\n",
              "      <th id=\"T_26a8f_level0_row1\" class=\"row_heading level0 row1\" >10</th>\n",
              "      <td id=\"T_26a8f_row1_col0\" class=\"data row1 col0\" >True</td>\n",
              "      <td id=\"T_26a8f_row1_col1\" class=\"data row1 col1\" >yes</td>\n",
              "    </tr>\n",
              "  </tbody>\n",
              "</table>\n"
            ]
          },
          "metadata": {}
        },
        {
          "output_type": "stream",
          "name": "stdout",
          "text": [
            "Entropy of windy - True = 1.0\n",
            "Information Gain for windy = 0.02\n"
          ]
        }
      ]
    },
    {
      "cell_type": "code",
      "source": [
        "rainy = data[data['outlook'] == 'rainy']\n",
        "rainy.style.applymap(highlight)\\\n",
        "    .set_properties(subset=data.columns, **{'width': '100px'})\\\n",
        "    .set_table_styles([{'selector': 'th', 'props': [('background-color', 'lightgray'), ('border', '1px solid gray'),\n",
        "                                                    ('font-weight', 'bold')]},\n",
        "     {'selector': 'tr:hover', 'props': [('background-color', 'white'), ('border', '1.5px solid black')]}])"
      ],
      "metadata": {
        "colab": {
          "base_uri": "https://localhost:8080/",
          "height": 212
        },
        "id": "FjgyM8PmrKJG",
        "outputId": "0ffb5423-f3c1-4e00-eddc-b858fcd4caad"
      },
      "execution_count": null,
      "outputs": [
        {
          "output_type": "execute_result",
          "data": {
            "text/plain": [
              "<pandas.io.formats.style.Styler at 0x794c9f3c31f0>"
            ],
            "text/html": [
              "<style type=\"text/css\">\n",
              "#T_6297d th {\n",
              "  background-color: lightgray;\n",
              "  border: 1px solid gray;\n",
              "  font-weight: bold;\n",
              "}\n",
              "#T_6297d tr:hover {\n",
              "  background-color: white;\n",
              "  border: 1.5px solid black;\n",
              "}\n",
              "#T_6297d_row0_col0, #T_6297d_row0_col1, #T_6297d_row0_col2, #T_6297d_row0_col3, #T_6297d_row1_col0, #T_6297d_row1_col1, #T_6297d_row1_col2, #T_6297d_row1_col3, #T_6297d_row2_col0, #T_6297d_row2_col1, #T_6297d_row2_col2, #T_6297d_row2_col3, #T_6297d_row3_col0, #T_6297d_row3_col1, #T_6297d_row3_col2, #T_6297d_row3_col3, #T_6297d_row4_col0, #T_6297d_row4_col1, #T_6297d_row4_col2, #T_6297d_row4_col3 {\n",
              "  width: 100px;\n",
              "}\n",
              "#T_6297d_row0_col4, #T_6297d_row1_col4, #T_6297d_row3_col4 {\n",
              "  background-color: lightgreen;\n",
              "  width: 100px;\n",
              "}\n",
              "#T_6297d_row2_col4, #T_6297d_row4_col4 {\n",
              "  background-color: pink;\n",
              "  width: 100px;\n",
              "}\n",
              "</style>\n",
              "<table id=\"T_6297d\" class=\"dataframe\">\n",
              "  <thead>\n",
              "    <tr>\n",
              "      <th class=\"blank level0\" >&nbsp;</th>\n",
              "      <th id=\"T_6297d_level0_col0\" class=\"col_heading level0 col0\" >outlook</th>\n",
              "      <th id=\"T_6297d_level0_col1\" class=\"col_heading level0 col1\" >temp</th>\n",
              "      <th id=\"T_6297d_level0_col2\" class=\"col_heading level0 col2\" >humidity</th>\n",
              "      <th id=\"T_6297d_level0_col3\" class=\"col_heading level0 col3\" >windy</th>\n",
              "      <th id=\"T_6297d_level0_col4\" class=\"col_heading level0 col4\" >play</th>\n",
              "    </tr>\n",
              "  </thead>\n",
              "  <tbody>\n",
              "    <tr>\n",
              "      <th id=\"T_6297d_level0_row0\" class=\"row_heading level0 row0\" >3</th>\n",
              "      <td id=\"T_6297d_row0_col0\" class=\"data row0 col0\" >rainy</td>\n",
              "      <td id=\"T_6297d_row0_col1\" class=\"data row0 col1\" >mild</td>\n",
              "      <td id=\"T_6297d_row0_col2\" class=\"data row0 col2\" >high</td>\n",
              "      <td id=\"T_6297d_row0_col3\" class=\"data row0 col3\" >False</td>\n",
              "      <td id=\"T_6297d_row0_col4\" class=\"data row0 col4\" >yes</td>\n",
              "    </tr>\n",
              "    <tr>\n",
              "      <th id=\"T_6297d_level0_row1\" class=\"row_heading level0 row1\" >4</th>\n",
              "      <td id=\"T_6297d_row1_col0\" class=\"data row1 col0\" >rainy</td>\n",
              "      <td id=\"T_6297d_row1_col1\" class=\"data row1 col1\" >cool</td>\n",
              "      <td id=\"T_6297d_row1_col2\" class=\"data row1 col2\" >normal</td>\n",
              "      <td id=\"T_6297d_row1_col3\" class=\"data row1 col3\" >False</td>\n",
              "      <td id=\"T_6297d_row1_col4\" class=\"data row1 col4\" >yes</td>\n",
              "    </tr>\n",
              "    <tr>\n",
              "      <th id=\"T_6297d_level0_row2\" class=\"row_heading level0 row2\" >5</th>\n",
              "      <td id=\"T_6297d_row2_col0\" class=\"data row2 col0\" >rainy</td>\n",
              "      <td id=\"T_6297d_row2_col1\" class=\"data row2 col1\" >cool</td>\n",
              "      <td id=\"T_6297d_row2_col2\" class=\"data row2 col2\" >normal</td>\n",
              "      <td id=\"T_6297d_row2_col3\" class=\"data row2 col3\" >True</td>\n",
              "      <td id=\"T_6297d_row2_col4\" class=\"data row2 col4\" >no</td>\n",
              "    </tr>\n",
              "    <tr>\n",
              "      <th id=\"T_6297d_level0_row3\" class=\"row_heading level0 row3\" >9</th>\n",
              "      <td id=\"T_6297d_row3_col0\" class=\"data row3 col0\" >rainy</td>\n",
              "      <td id=\"T_6297d_row3_col1\" class=\"data row3 col1\" >mild</td>\n",
              "      <td id=\"T_6297d_row3_col2\" class=\"data row3 col2\" >normal</td>\n",
              "      <td id=\"T_6297d_row3_col3\" class=\"data row3 col3\" >False</td>\n",
              "      <td id=\"T_6297d_row3_col4\" class=\"data row3 col4\" >yes</td>\n",
              "    </tr>\n",
              "    <tr>\n",
              "      <th id=\"T_6297d_level0_row4\" class=\"row_heading level0 row4\" >13</th>\n",
              "      <td id=\"T_6297d_row4_col0\" class=\"data row4 col0\" >rainy</td>\n",
              "      <td id=\"T_6297d_row4_col1\" class=\"data row4 col1\" >mild</td>\n",
              "      <td id=\"T_6297d_row4_col2\" class=\"data row4 col2\" >high</td>\n",
              "      <td id=\"T_6297d_row4_col3\" class=\"data row4 col3\" >True</td>\n",
              "      <td id=\"T_6297d_row4_col4\" class=\"data row4 col4\" >no</td>\n",
              "    </tr>\n",
              "  </tbody>\n",
              "</table>\n"
            ]
          },
          "metadata": {},
          "execution_count": 20
        }
      ]
    },
    {
      "cell_type": "code",
      "source": [
        "print(f'Entropy of the Rainy dataset: {find_entropy(rainy.play)}')"
      ],
      "metadata": {
        "colab": {
          "base_uri": "https://localhost:8080/"
        },
        "id": "32-R5IVArff3",
        "outputId": "41dfc2f5-97cf-46b8-d6ca-9db92e8b793b"
      },
      "execution_count": null,
      "outputs": [
        {
          "output_type": "stream",
          "name": "stdout",
          "text": [
            "Entropy of the Rainy dataset: 0.971\n"
          ]
        }
      ]
    },
    {
      "cell_type": "code",
      "source": [
        "entropy_and_infogain(rainy, 'temp')"
      ],
      "metadata": {
        "colab": {
          "base_uri": "https://localhost:8080/",
          "height": 298
        },
        "id": "ljcJykj_rh0f",
        "outputId": "5624fda9-0884-4d18-a95d-e1467c758406"
      },
      "execution_count": null,
      "outputs": [
        {
          "output_type": "display_data",
          "data": {
            "text/plain": [
              "<pandas.io.formats.style.Styler at 0x794c9f780e50>"
            ],
            "text/html": [
              "<style type=\"text/css\">\n",
              "#T_bb40e th {\n",
              "  background-color: lightgray;\n",
              "  border: 1px solid gray;\n",
              "  font-weight: bold;\n",
              "}\n",
              "#T_bb40e td {\n",
              "  border: 1px solid gray;\n",
              "}\n",
              "#T_bb40e tr:hover {\n",
              "  background-color: white;\n",
              "  border: 1.5px solid black;\n",
              "}\n",
              "#T_bb40e_row0_col0, #T_bb40e_row1_col0, #T_bb40e_row2_col0 {\n",
              "  width: 80px;\n",
              "}\n",
              "#T_bb40e_row0_col1, #T_bb40e_row1_col1 {\n",
              "  background-color: lightgreen;\n",
              "  width: 80px;\n",
              "}\n",
              "#T_bb40e_row2_col1 {\n",
              "  background-color: pink;\n",
              "  width: 80px;\n",
              "}\n",
              "</style>\n",
              "<table id=\"T_bb40e\" class=\"dataframe\">\n",
              "  <thead>\n",
              "    <tr>\n",
              "      <th class=\"blank level0\" >&nbsp;</th>\n",
              "      <th id=\"T_bb40e_level0_col0\" class=\"col_heading level0 col0\" >temp</th>\n",
              "      <th id=\"T_bb40e_level0_col1\" class=\"col_heading level0 col1\" >play</th>\n",
              "    </tr>\n",
              "  </thead>\n",
              "  <tbody>\n",
              "    <tr>\n",
              "      <th id=\"T_bb40e_level0_row0\" class=\"row_heading level0 row0\" >3</th>\n",
              "      <td id=\"T_bb40e_row0_col0\" class=\"data row0 col0\" >mild</td>\n",
              "      <td id=\"T_bb40e_row0_col1\" class=\"data row0 col1\" >yes</td>\n",
              "    </tr>\n",
              "    <tr>\n",
              "      <th id=\"T_bb40e_level0_row1\" class=\"row_heading level0 row1\" >9</th>\n",
              "      <td id=\"T_bb40e_row1_col0\" class=\"data row1 col0\" >mild</td>\n",
              "      <td id=\"T_bb40e_row1_col1\" class=\"data row1 col1\" >yes</td>\n",
              "    </tr>\n",
              "    <tr>\n",
              "      <th id=\"T_bb40e_level0_row2\" class=\"row_heading level0 row2\" >13</th>\n",
              "      <td id=\"T_bb40e_row2_col0\" class=\"data row2 col0\" >mild</td>\n",
              "      <td id=\"T_bb40e_row2_col1\" class=\"data row2 col1\" >no</td>\n",
              "    </tr>\n",
              "  </tbody>\n",
              "</table>\n"
            ]
          },
          "metadata": {}
        },
        {
          "output_type": "stream",
          "name": "stdout",
          "text": [
            "Entropy of temp - mild = 0.918\n"
          ]
        },
        {
          "output_type": "display_data",
          "data": {
            "text/plain": [
              "<pandas.io.formats.style.Styler at 0x794c9f3f5ff0>"
            ],
            "text/html": [
              "<style type=\"text/css\">\n",
              "#T_09b99 th {\n",
              "  background-color: lightgray;\n",
              "  border: 1px solid gray;\n",
              "  font-weight: bold;\n",
              "}\n",
              "#T_09b99 td {\n",
              "  border: 1px solid gray;\n",
              "}\n",
              "#T_09b99 tr:hover {\n",
              "  background-color: white;\n",
              "  border: 1.5px solid black;\n",
              "}\n",
              "#T_09b99_row0_col0, #T_09b99_row1_col0 {\n",
              "  width: 80px;\n",
              "}\n",
              "#T_09b99_row0_col1 {\n",
              "  background-color: lightgreen;\n",
              "  width: 80px;\n",
              "}\n",
              "#T_09b99_row1_col1 {\n",
              "  background-color: pink;\n",
              "  width: 80px;\n",
              "}\n",
              "</style>\n",
              "<table id=\"T_09b99\" class=\"dataframe\">\n",
              "  <thead>\n",
              "    <tr>\n",
              "      <th class=\"blank level0\" >&nbsp;</th>\n",
              "      <th id=\"T_09b99_level0_col0\" class=\"col_heading level0 col0\" >temp</th>\n",
              "      <th id=\"T_09b99_level0_col1\" class=\"col_heading level0 col1\" >play</th>\n",
              "    </tr>\n",
              "  </thead>\n",
              "  <tbody>\n",
              "    <tr>\n",
              "      <th id=\"T_09b99_level0_row0\" class=\"row_heading level0 row0\" >4</th>\n",
              "      <td id=\"T_09b99_row0_col0\" class=\"data row0 col0\" >cool</td>\n",
              "      <td id=\"T_09b99_row0_col1\" class=\"data row0 col1\" >yes</td>\n",
              "    </tr>\n",
              "    <tr>\n",
              "      <th id=\"T_09b99_level0_row1\" class=\"row_heading level0 row1\" >5</th>\n",
              "      <td id=\"T_09b99_row1_col0\" class=\"data row1 col0\" >cool</td>\n",
              "      <td id=\"T_09b99_row1_col1\" class=\"data row1 col1\" >no</td>\n",
              "    </tr>\n",
              "  </tbody>\n",
              "</table>\n"
            ]
          },
          "metadata": {}
        },
        {
          "output_type": "stream",
          "name": "stdout",
          "text": [
            "Entropy of temp - cool = 1.0\n",
            "Information Gain for temp = 0.02\n"
          ]
        }
      ]
    },
    {
      "cell_type": "code",
      "source": [
        "entropy_and_infogain(rainy, 'humidity')"
      ],
      "metadata": {
        "id": "uJp2V688ripP",
        "outputId": "b3dc61da-a7f5-44f5-d851-70ed619374cf",
        "colab": {
          "base_uri": "https://localhost:8080/",
          "height": 298
        }
      },
      "execution_count": null,
      "outputs": [
        {
          "output_type": "display_data",
          "data": {
            "text/plain": [
              "<pandas.io.formats.style.Styler at 0x794c9f3c3580>"
            ],
            "text/html": [
              "<style type=\"text/css\">\n",
              "#T_9bfe0 th {\n",
              "  background-color: lightgray;\n",
              "  border: 1px solid gray;\n",
              "  font-weight: bold;\n",
              "}\n",
              "#T_9bfe0 td {\n",
              "  border: 1px solid gray;\n",
              "}\n",
              "#T_9bfe0 tr:hover {\n",
              "  background-color: white;\n",
              "  border: 1.5px solid black;\n",
              "}\n",
              "#T_9bfe0_row0_col0, #T_9bfe0_row1_col0 {\n",
              "  width: 80px;\n",
              "}\n",
              "#T_9bfe0_row0_col1 {\n",
              "  background-color: lightgreen;\n",
              "  width: 80px;\n",
              "}\n",
              "#T_9bfe0_row1_col1 {\n",
              "  background-color: pink;\n",
              "  width: 80px;\n",
              "}\n",
              "</style>\n",
              "<table id=\"T_9bfe0\" class=\"dataframe\">\n",
              "  <thead>\n",
              "    <tr>\n",
              "      <th class=\"blank level0\" >&nbsp;</th>\n",
              "      <th id=\"T_9bfe0_level0_col0\" class=\"col_heading level0 col0\" >humidity</th>\n",
              "      <th id=\"T_9bfe0_level0_col1\" class=\"col_heading level0 col1\" >play</th>\n",
              "    </tr>\n",
              "  </thead>\n",
              "  <tbody>\n",
              "    <tr>\n",
              "      <th id=\"T_9bfe0_level0_row0\" class=\"row_heading level0 row0\" >3</th>\n",
              "      <td id=\"T_9bfe0_row0_col0\" class=\"data row0 col0\" >high</td>\n",
              "      <td id=\"T_9bfe0_row0_col1\" class=\"data row0 col1\" >yes</td>\n",
              "    </tr>\n",
              "    <tr>\n",
              "      <th id=\"T_9bfe0_level0_row1\" class=\"row_heading level0 row1\" >13</th>\n",
              "      <td id=\"T_9bfe0_row1_col0\" class=\"data row1 col0\" >high</td>\n",
              "      <td id=\"T_9bfe0_row1_col1\" class=\"data row1 col1\" >no</td>\n",
              "    </tr>\n",
              "  </tbody>\n",
              "</table>\n"
            ]
          },
          "metadata": {}
        },
        {
          "output_type": "stream",
          "name": "stdout",
          "text": [
            "Entropy of humidity - high = 1.0\n"
          ]
        },
        {
          "output_type": "display_data",
          "data": {
            "text/plain": [
              "<pandas.io.formats.style.Styler at 0x794c9f3c2a70>"
            ],
            "text/html": [
              "<style type=\"text/css\">\n",
              "#T_069c0 th {\n",
              "  background-color: lightgray;\n",
              "  border: 1px solid gray;\n",
              "  font-weight: bold;\n",
              "}\n",
              "#T_069c0 td {\n",
              "  border: 1px solid gray;\n",
              "}\n",
              "#T_069c0 tr:hover {\n",
              "  background-color: white;\n",
              "  border: 1.5px solid black;\n",
              "}\n",
              "#T_069c0_row0_col0, #T_069c0_row1_col0, #T_069c0_row2_col0 {\n",
              "  width: 80px;\n",
              "}\n",
              "#T_069c0_row0_col1, #T_069c0_row2_col1 {\n",
              "  background-color: lightgreen;\n",
              "  width: 80px;\n",
              "}\n",
              "#T_069c0_row1_col1 {\n",
              "  background-color: pink;\n",
              "  width: 80px;\n",
              "}\n",
              "</style>\n",
              "<table id=\"T_069c0\" class=\"dataframe\">\n",
              "  <thead>\n",
              "    <tr>\n",
              "      <th class=\"blank level0\" >&nbsp;</th>\n",
              "      <th id=\"T_069c0_level0_col0\" class=\"col_heading level0 col0\" >humidity</th>\n",
              "      <th id=\"T_069c0_level0_col1\" class=\"col_heading level0 col1\" >play</th>\n",
              "    </tr>\n",
              "  </thead>\n",
              "  <tbody>\n",
              "    <tr>\n",
              "      <th id=\"T_069c0_level0_row0\" class=\"row_heading level0 row0\" >4</th>\n",
              "      <td id=\"T_069c0_row0_col0\" class=\"data row0 col0\" >normal</td>\n",
              "      <td id=\"T_069c0_row0_col1\" class=\"data row0 col1\" >yes</td>\n",
              "    </tr>\n",
              "    <tr>\n",
              "      <th id=\"T_069c0_level0_row1\" class=\"row_heading level0 row1\" >5</th>\n",
              "      <td id=\"T_069c0_row1_col0\" class=\"data row1 col0\" >normal</td>\n",
              "      <td id=\"T_069c0_row1_col1\" class=\"data row1 col1\" >no</td>\n",
              "    </tr>\n",
              "    <tr>\n",
              "      <th id=\"T_069c0_level0_row2\" class=\"row_heading level0 row2\" >9</th>\n",
              "      <td id=\"T_069c0_row2_col0\" class=\"data row2 col0\" >normal</td>\n",
              "      <td id=\"T_069c0_row2_col1\" class=\"data row2 col1\" >yes</td>\n",
              "    </tr>\n",
              "  </tbody>\n",
              "</table>\n"
            ]
          },
          "metadata": {}
        },
        {
          "output_type": "stream",
          "name": "stdout",
          "text": [
            "Entropy of humidity - normal = 0.918\n",
            "Information Gain for humidity = 0.02\n"
          ]
        }
      ]
    },
    {
      "cell_type": "code",
      "source": [
        "entropy_and_infogain(rainy, 'windy')"
      ],
      "metadata": {
        "id": "GtZzMgK0rk4w",
        "outputId": "99f5221c-2f04-4da9-8021-2f5ae308e796",
        "colab": {
          "base_uri": "https://localhost:8080/",
          "height": 298
        }
      },
      "execution_count": null,
      "outputs": [
        {
          "output_type": "display_data",
          "data": {
            "text/plain": [
              "<pandas.io.formats.style.Styler at 0x794c9f3c2c80>"
            ],
            "text/html": [
              "<style type=\"text/css\">\n",
              "#T_6d949 th {\n",
              "  background-color: lightgray;\n",
              "  border: 1px solid gray;\n",
              "  font-weight: bold;\n",
              "}\n",
              "#T_6d949 td {\n",
              "  border: 1px solid gray;\n",
              "}\n",
              "#T_6d949 tr:hover {\n",
              "  background-color: white;\n",
              "  border: 1.5px solid black;\n",
              "}\n",
              "#T_6d949_row0_col0, #T_6d949_row1_col0, #T_6d949_row2_col0 {\n",
              "  width: 80px;\n",
              "}\n",
              "#T_6d949_row0_col1, #T_6d949_row1_col1, #T_6d949_row2_col1 {\n",
              "  background-color: lightgreen;\n",
              "  width: 80px;\n",
              "}\n",
              "</style>\n",
              "<table id=\"T_6d949\" class=\"dataframe\">\n",
              "  <thead>\n",
              "    <tr>\n",
              "      <th class=\"blank level0\" >&nbsp;</th>\n",
              "      <th id=\"T_6d949_level0_col0\" class=\"col_heading level0 col0\" >windy</th>\n",
              "      <th id=\"T_6d949_level0_col1\" class=\"col_heading level0 col1\" >play</th>\n",
              "    </tr>\n",
              "  </thead>\n",
              "  <tbody>\n",
              "    <tr>\n",
              "      <th id=\"T_6d949_level0_row0\" class=\"row_heading level0 row0\" >3</th>\n",
              "      <td id=\"T_6d949_row0_col0\" class=\"data row0 col0\" >False</td>\n",
              "      <td id=\"T_6d949_row0_col1\" class=\"data row0 col1\" >yes</td>\n",
              "    </tr>\n",
              "    <tr>\n",
              "      <th id=\"T_6d949_level0_row1\" class=\"row_heading level0 row1\" >4</th>\n",
              "      <td id=\"T_6d949_row1_col0\" class=\"data row1 col0\" >False</td>\n",
              "      <td id=\"T_6d949_row1_col1\" class=\"data row1 col1\" >yes</td>\n",
              "    </tr>\n",
              "    <tr>\n",
              "      <th id=\"T_6d949_level0_row2\" class=\"row_heading level0 row2\" >9</th>\n",
              "      <td id=\"T_6d949_row2_col0\" class=\"data row2 col0\" >False</td>\n",
              "      <td id=\"T_6d949_row2_col1\" class=\"data row2 col1\" >yes</td>\n",
              "    </tr>\n",
              "  </tbody>\n",
              "</table>\n"
            ]
          },
          "metadata": {}
        },
        {
          "output_type": "stream",
          "name": "stdout",
          "text": [
            "Entropy of windy - False = 0.0\n"
          ]
        },
        {
          "output_type": "display_data",
          "data": {
            "text/plain": [
              "<pandas.io.formats.style.Styler at 0x794c9f3c2c80>"
            ],
            "text/html": [
              "<style type=\"text/css\">\n",
              "#T_e7f16 th {\n",
              "  background-color: lightgray;\n",
              "  border: 1px solid gray;\n",
              "  font-weight: bold;\n",
              "}\n",
              "#T_e7f16 td {\n",
              "  border: 1px solid gray;\n",
              "}\n",
              "#T_e7f16 tr:hover {\n",
              "  background-color: white;\n",
              "  border: 1.5px solid black;\n",
              "}\n",
              "#T_e7f16_row0_col0, #T_e7f16_row1_col0 {\n",
              "  width: 80px;\n",
              "}\n",
              "#T_e7f16_row0_col1, #T_e7f16_row1_col1 {\n",
              "  background-color: pink;\n",
              "  width: 80px;\n",
              "}\n",
              "</style>\n",
              "<table id=\"T_e7f16\" class=\"dataframe\">\n",
              "  <thead>\n",
              "    <tr>\n",
              "      <th class=\"blank level0\" >&nbsp;</th>\n",
              "      <th id=\"T_e7f16_level0_col0\" class=\"col_heading level0 col0\" >windy</th>\n",
              "      <th id=\"T_e7f16_level0_col1\" class=\"col_heading level0 col1\" >play</th>\n",
              "    </tr>\n",
              "  </thead>\n",
              "  <tbody>\n",
              "    <tr>\n",
              "      <th id=\"T_e7f16_level0_row0\" class=\"row_heading level0 row0\" >5</th>\n",
              "      <td id=\"T_e7f16_row0_col0\" class=\"data row0 col0\" >True</td>\n",
              "      <td id=\"T_e7f16_row0_col1\" class=\"data row0 col1\" >no</td>\n",
              "    </tr>\n",
              "    <tr>\n",
              "      <th id=\"T_e7f16_level0_row1\" class=\"row_heading level0 row1\" >13</th>\n",
              "      <td id=\"T_e7f16_row1_col0\" class=\"data row1 col0\" >True</td>\n",
              "      <td id=\"T_e7f16_row1_col1\" class=\"data row1 col1\" >no</td>\n",
              "    </tr>\n",
              "  </tbody>\n",
              "</table>\n"
            ]
          },
          "metadata": {}
        },
        {
          "output_type": "stream",
          "name": "stdout",
          "text": [
            "Entropy of windy - True = 0.0\n",
            "Information Gain for windy = 0.971\n"
          ]
        }
      ]
    }
  ]
}
